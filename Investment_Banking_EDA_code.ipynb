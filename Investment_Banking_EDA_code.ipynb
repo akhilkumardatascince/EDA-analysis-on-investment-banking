{
 "cells": [
  {
   "cell_type": "code",
   "execution_count": 7,
   "metadata": {},
   "outputs": [],
   "source": [
    "#import all libraries\n",
    "import pyforest\n",
    "from beautifultable import BeautifulTable\n",
    "import warnings\n",
    "warnings.filterwarnings('ignore')"
   ]
  },
  {
   "cell_type": "code",
   "execution_count": 9,
   "metadata": {},
   "outputs": [
    {
     "data": {
      "application/javascript": [
       "\n",
       "        if (window._pyforest_update_imports_cell) { window._pyforest_update_imports_cell('import pandas as pd'); }\n",
       "    "
      ],
      "text/plain": [
       "<IPython.core.display.Javascript object>"
      ]
     },
     "metadata": {},
     "output_type": "display_data"
    }
   ],
   "source": [
    "#loading data\n",
    "data = pd.read_excel(investment_banking.xlsx')"
   ]
  },
  {
   "cell_type": "code",
   "execution_count": 10,
   "metadata": {},
   "outputs": [
    {
     "data": {
      "application/javascript": [
       "\n",
       "        if (window._pyforest_update_imports_cell) { window._pyforest_update_imports_cell('import pandas as pd'); }\n",
       "    "
      ],
      "text/plain": [
       "<IPython.core.display.Javascript object>"
      ]
     },
     "metadata": {},
     "output_type": "display_data"
    }
   ],
   "source": [
    "#its always good pratice to maintain original dataset\n",
    "data_orig = pd.read_excel('F:\\\\KSR Consulting Services\\\\KSR_DS_Sept_Oct_2020\\\\Domain\\\\EDA\\\\Data\\\\investment_banking.xlsx')\n",
    "#or\n",
    "#data_orig = data"
   ]
  },
  {
   "cell_type": "code",
   "execution_count": 12,
   "metadata": {},
   "outputs": [
    {
     "data": {
      "text/plain": [
       "((753089, 9), (753089, 9))"
      ]
     },
     "execution_count": 12,
     "metadata": {},
     "output_type": "execute_result"
    }
   ],
   "source": [
    "#make sure data is loaded properly\n",
    "data.shape, data_orig.shape"
   ]
  },
  {
   "cell_type": "code",
   "execution_count": 13,
   "metadata": {},
   "outputs": [
    {
     "data": {
      "text/html": [
       "<div>\n",
       "<style scoped>\n",
       "    .dataframe tbody tr th:only-of-type {\n",
       "        vertical-align: middle;\n",
       "    }\n",
       "\n",
       "    .dataframe tbody tr th {\n",
       "        vertical-align: top;\n",
       "    }\n",
       "\n",
       "    .dataframe thead th {\n",
       "        text-align: right;\n",
       "    }\n",
       "</style>\n",
       "<table border=\"1\" class=\"dataframe\">\n",
       "  <thead>\n",
       "    <tr style=\"text-align: right;\">\n",
       "      <th></th>\n",
       "      <th>broker_id</th>\n",
       "      <th>city</th>\n",
       "      <th>broker_type</th>\n",
       "      <th>fund_category</th>\n",
       "      <th>email_opened</th>\n",
       "      <th>webex_meet</th>\n",
       "      <th>sales_call</th>\n",
       "      <th>firm_sales</th>\n",
       "      <th>global_sales</th>\n",
       "    </tr>\n",
       "  </thead>\n",
       "  <tbody>\n",
       "    <tr>\n",
       "      <th>0</th>\n",
       "      <td>BRXX-1</td>\n",
       "      <td>PLANTATION, FL</td>\n",
       "      <td>Inter-dealer broker</td>\n",
       "      <td>Emerging-Markets Local-Currency Bond</td>\n",
       "      <td>NaN</td>\n",
       "      <td>NaN</td>\n",
       "      <td>NaN</td>\n",
       "      <td>174.62</td>\n",
       "      <td>174.62</td>\n",
       "    </tr>\n",
       "    <tr>\n",
       "      <th>1</th>\n",
       "      <td>BRXX-1</td>\n",
       "      <td>BRANFORD, CT</td>\n",
       "      <td>Inter-dealer broker</td>\n",
       "      <td>Utilities</td>\n",
       "      <td>NaN</td>\n",
       "      <td>NaN</td>\n",
       "      <td>NaN</td>\n",
       "      <td>0.00</td>\n",
       "      <td>0.00</td>\n",
       "    </tr>\n",
       "    <tr>\n",
       "      <th>2</th>\n",
       "      <td>BRXX-1</td>\n",
       "      <td>JONESBORO, GA</td>\n",
       "      <td>Inter-dealer broker</td>\n",
       "      <td>Intermediate Government</td>\n",
       "      <td>NaN</td>\n",
       "      <td>NaN</td>\n",
       "      <td>NaN</td>\n",
       "      <td>0.00</td>\n",
       "      <td>0.00</td>\n",
       "    </tr>\n",
       "    <tr>\n",
       "      <th>3</th>\n",
       "      <td>BRXX-2</td>\n",
       "      <td>VIENNA, VA</td>\n",
       "      <td>Inter-dealer broker</td>\n",
       "      <td>Intermediate Government</td>\n",
       "      <td>Y</td>\n",
       "      <td>NaN</td>\n",
       "      <td>NaN</td>\n",
       "      <td>0.00</td>\n",
       "      <td>30709.00</td>\n",
       "    </tr>\n",
       "    <tr>\n",
       "      <th>4</th>\n",
       "      <td>BRXX-3</td>\n",
       "      <td>CHAGRIN FALLS, OH</td>\n",
       "      <td>full-service broker</td>\n",
       "      <td>Target-Date 2050</td>\n",
       "      <td>Y</td>\n",
       "      <td>NaN</td>\n",
       "      <td>Y</td>\n",
       "      <td>0.00</td>\n",
       "      <td>0.00</td>\n",
       "    </tr>\n",
       "  </tbody>\n",
       "</table>\n",
       "</div>"
      ],
      "text/plain": [
       "  broker_id               city          broker_type  \\\n",
       "0    BRXX-1     PLANTATION, FL  Inter-dealer broker   \n",
       "1    BRXX-1       BRANFORD, CT  Inter-dealer broker   \n",
       "2    BRXX-1      JONESBORO, GA  Inter-dealer broker   \n",
       "3    BRXX-2         VIENNA, VA  Inter-dealer broker   \n",
       "4    BRXX-3  CHAGRIN FALLS, OH  full-service broker   \n",
       "\n",
       "                          fund_category email_opened webex_meet sales_call  \\\n",
       "0  Emerging-Markets Local-Currency Bond          NaN        NaN        NaN   \n",
       "1                             Utilities          NaN        NaN        NaN   \n",
       "2               Intermediate Government          NaN        NaN        NaN   \n",
       "3               Intermediate Government            Y        NaN        NaN   \n",
       "4                      Target-Date 2050            Y        NaN          Y   \n",
       "\n",
       "   firm_sales  global_sales  \n",
       "0      174.62        174.62  \n",
       "1        0.00          0.00  \n",
       "2        0.00          0.00  \n",
       "3        0.00      30709.00  \n",
       "4        0.00          0.00  "
      ]
     },
     "execution_count": 13,
     "metadata": {},
     "output_type": "execute_result"
    }
   ],
   "source": [
    "#view dataset\n",
    "data.head(5)"
   ]
  },
  {
   "cell_type": "code",
   "execution_count": 14,
   "metadata": {},
   "outputs": [],
   "source": [
    "#function to do basic checks (reusable code)\n",
    "def basic_check(__input__):\n",
    "    table = BeautifulTable()\n",
    "    a = []\n",
    "    a=__input__.columns\n",
    "    table.column_headers = [\"features\",\"feature_datatype\",\"unique value\", \"missing_values\", \"missing_value_%\"]\n",
    "    for i in a:\n",
    "        table.append_row([i, \n",
    "                          __input__[i].dtype,\n",
    "                          __input__[i].nunique(),\n",
    "                          __input__[i].isna().sum(),\n",
    "                          ((__input__[i].isna().sum()) / (__input__[i].shape[0])*100)])\n",
    "    print(table)"
   ]
  },
  {
   "cell_type": "code",
   "execution_count": 15,
   "metadata": {},
   "outputs": [
    {
     "name": "stdout",
     "output_type": "stream",
     "text": [
      "+-------------+------------------+--------------+--------------+---------------+\n",
      "|  features   | feature_datatype | unique value | missing_valu | missing_value |\n",
      "|             |                  |              |      es      |      _%       |\n",
      "+-------------+------------------+--------------+--------------+---------------+\n",
      "|  broker_id  |      object      |     1178     |      0       |      0.0      |\n",
      "+-------------+------------------+--------------+--------------+---------------+\n",
      "|    city     |      object      |     9813     |      0       |      0.0      |\n",
      "+-------------+------------------+--------------+--------------+---------------+\n",
      "| broker_type |      object      |      2       |      0       |      0.0      |\n",
      "+-------------+------------------+--------------+--------------+---------------+\n",
      "| fund_catego |      object      |     103      |      0       |      0.0      |\n",
      "|     ry      |                  |              |              |               |\n",
      "+-------------+------------------+--------------+--------------+---------------+\n",
      "| email_opene |      object      |      1       |    434545    |    57.702     |\n",
      "|      d      |                  |              |              |               |\n",
      "+-------------+------------------+--------------+--------------+---------------+\n",
      "| webex_meet  |      object      |      1       |    667429    |    88.626     |\n",
      "+-------------+------------------+--------------+--------------+---------------+\n",
      "| sales_call  |      object      |      1       |    573091    |    76.099     |\n",
      "+-------------+------------------+--------------+--------------+---------------+\n",
      "| firm_sales  |     float64      |    44958     |      0       |      0.0      |\n",
      "+-------------+------------------+--------------+--------------+---------------+\n",
      "| global_sale |     float64      |    360477    |      0       |      0.0      |\n",
      "|      s      |                  |              |              |               |\n",
      "+-------------+------------------+--------------+--------------+---------------+\n"
     ]
    }
   ],
   "source": [
    "basic_check(data) #call function to see basic details (reusable code)"
   ]
  },
  {
   "cell_type": "code",
   "execution_count": 16,
   "metadata": {},
   "outputs": [
    {
     "data": {
      "text/html": [
       "<div>\n",
       "<style scoped>\n",
       "    .dataframe tbody tr th:only-of-type {\n",
       "        vertical-align: middle;\n",
       "    }\n",
       "\n",
       "    .dataframe tbody tr th {\n",
       "        vertical-align: top;\n",
       "    }\n",
       "\n",
       "    .dataframe thead th {\n",
       "        text-align: right;\n",
       "    }\n",
       "</style>\n",
       "<table border=\"1\" class=\"dataframe\">\n",
       "  <thead>\n",
       "    <tr style=\"text-align: right;\">\n",
       "      <th></th>\n",
       "      <th>broker_id</th>\n",
       "      <th>city</th>\n",
       "      <th>broker_type</th>\n",
       "      <th>fund_category</th>\n",
       "      <th>email_opened</th>\n",
       "      <th>webex_meet</th>\n",
       "      <th>sales_call</th>\n",
       "      <th>firm_sales</th>\n",
       "      <th>global_sales</th>\n",
       "    </tr>\n",
       "  </thead>\n",
       "  <tbody>\n",
       "    <tr>\n",
       "      <th>0</th>\n",
       "      <td>BRXX-1</td>\n",
       "      <td>PLANTATION, FL</td>\n",
       "      <td>Inter-dealer broker</td>\n",
       "      <td>Emerging-Markets Local-Currency Bond</td>\n",
       "      <td>NaN</td>\n",
       "      <td>NaN</td>\n",
       "      <td>NaN</td>\n",
       "      <td>174.62</td>\n",
       "      <td>174.62</td>\n",
       "    </tr>\n",
       "    <tr>\n",
       "      <th>1</th>\n",
       "      <td>BRXX-1</td>\n",
       "      <td>BRANFORD, CT</td>\n",
       "      <td>Inter-dealer broker</td>\n",
       "      <td>Utilities</td>\n",
       "      <td>NaN</td>\n",
       "      <td>NaN</td>\n",
       "      <td>NaN</td>\n",
       "      <td>0.00</td>\n",
       "      <td>0.00</td>\n",
       "    </tr>\n",
       "    <tr>\n",
       "      <th>2</th>\n",
       "      <td>BRXX-1</td>\n",
       "      <td>JONESBORO, GA</td>\n",
       "      <td>Inter-dealer broker</td>\n",
       "      <td>Intermediate Government</td>\n",
       "      <td>NaN</td>\n",
       "      <td>NaN</td>\n",
       "      <td>NaN</td>\n",
       "      <td>0.00</td>\n",
       "      <td>0.00</td>\n",
       "    </tr>\n",
       "    <tr>\n",
       "      <th>3</th>\n",
       "      <td>BRXX-2</td>\n",
       "      <td>VIENNA, VA</td>\n",
       "      <td>Inter-dealer broker</td>\n",
       "      <td>Intermediate Government</td>\n",
       "      <td>Y</td>\n",
       "      <td>NaN</td>\n",
       "      <td>NaN</td>\n",
       "      <td>0.00</td>\n",
       "      <td>30709.00</td>\n",
       "    </tr>\n",
       "    <tr>\n",
       "      <th>4</th>\n",
       "      <td>BRXX-3</td>\n",
       "      <td>CHAGRIN FALLS, OH</td>\n",
       "      <td>full-service broker</td>\n",
       "      <td>Target-Date 2050</td>\n",
       "      <td>Y</td>\n",
       "      <td>NaN</td>\n",
       "      <td>Y</td>\n",
       "      <td>0.00</td>\n",
       "      <td>0.00</td>\n",
       "    </tr>\n",
       "  </tbody>\n",
       "</table>\n",
       "</div>"
      ],
      "text/plain": [
       "  broker_id               city          broker_type  \\\n",
       "0    BRXX-1     PLANTATION, FL  Inter-dealer broker   \n",
       "1    BRXX-1       BRANFORD, CT  Inter-dealer broker   \n",
       "2    BRXX-1      JONESBORO, GA  Inter-dealer broker   \n",
       "3    BRXX-2         VIENNA, VA  Inter-dealer broker   \n",
       "4    BRXX-3  CHAGRIN FALLS, OH  full-service broker   \n",
       "\n",
       "                          fund_category email_opened webex_meet sales_call  \\\n",
       "0  Emerging-Markets Local-Currency Bond          NaN        NaN        NaN   \n",
       "1                             Utilities          NaN        NaN        NaN   \n",
       "2               Intermediate Government          NaN        NaN        NaN   \n",
       "3               Intermediate Government            Y        NaN        NaN   \n",
       "4                      Target-Date 2050            Y        NaN          Y   \n",
       "\n",
       "   firm_sales  global_sales  \n",
       "0      174.62        174.62  \n",
       "1        0.00          0.00  \n",
       "2        0.00          0.00  \n",
       "3        0.00      30709.00  \n",
       "4        0.00          0.00  "
      ]
     },
     "execution_count": 16,
     "metadata": {},
     "output_type": "execute_result"
    }
   ],
   "source": [
    "data.head()"
   ]
  },
  {
   "cell_type": "markdown",
   "metadata": {},
   "source": [
    "## Data Cleaning"
   ]
  },
  {
   "cell_type": "code",
   "execution_count": 17,
   "metadata": {},
   "outputs": [],
   "source": [
    "#split city feature into city and state\n",
    "data['city'], data['state'] = data['city'].str.split(',',1).str"
   ]
  },
  {
   "cell_type": "code",
   "execution_count": 18,
   "metadata": {},
   "outputs": [],
   "source": [
    "#from morning star website\n",
    "#https://www.morningstar.in/tools/mutual-fund-category-performance.aspx\n",
    "US_Equity_Fund = ['Large Growth', 'Large Blend','Large Value','Small Growth','Small Value','Small Blend','Mid-Cap Growth','Mid-Cap Value','Mid-Cap Blend']\n",
    "Allocation_Funds = ['Allocation--85%+ Equity','Target-Date 2060+','Convertibles', 'Target-Date 2055','Target-Date 2050','Target-Date 2045','Target-Date 2040', 'Allocation--70% to 85% Equity', 'Target-Date 2035','Target-Date 2030','Allocation--50% to 70% Equity','Target-Date 2025','World Allocation', 'Tactical Allocation','Target-Date 2020', 'Allocation--30% to 50% Equity', 'Target-Date 2015', 'Target-Date 2000-2010','Target-Date Retirement', 'Allocation--15% to 30% Equity']\n",
    "Municipal_Bond_Funds = ['Muni National Interm','Muni Single State Short','Muni Single State Interm','Muni California Intermediate','Muni Single State Interm','Muni Massachusetts','Muni New York Long','Muni California Long','Muni Single State Long','Muni National Long','Muni National Short','Muni Pennsylvania','Muni Minnesota','Muni New Jersey','Muni New York Intermediate','Muni Ohio','High Yield Muni']\n",
    "International_Equity_Funds = ['Latin America Stock','China Region','World Small/Mid Stock','World Large Stock','Diversified Emerging Mkts','Pacific/Asia ex-Japan Stk','Foreign Small/Mid Growth','Foreign Large Growth','Foreign Small/Mid Blend','Foreign Small/Mid Value','Diversified Pacific/Asia','Foreign Large Blend','Europe Stock','Foreign Large Value','Japan Stock','India Equity','Miscellaneous Region']\n",
    "Taxable_Bond_Funds = ['Preferred Stock', 'High Yield Bond', 'Emerging Markets Bond', 'Emerging-Markets Local-Currency Bond', 'Bank Loan', 'Corporate Bond', 'Multisector Bond', 'Long-Term Bond', 'Nontraditional Bond', 'World Bond', 'Intermediate-Term Bond', 'Inflation-Protected Bond', 'Short-Term Bond', 'Long Government', 'Intermediate Government', 'Ultrashort Bond', 'Short Government']\n",
    "Alternative_Funds=['Options-based','Long-Short Equity','Multialternative','Long-Short Credit','Multicurrency','Market Neutral','Managed Futures','Bear Market']\n",
    "Commodities=['Commodities Broad Basket']\n",
    "Sector_quity_Funds=['Technology','Real Estate','Industrials','Energy Limited Partnership','Equity Energy','Global Real Estate','Financial','Consumer Cyclical','Health','Communications' ,'Infrastructure','Natural Resources','Equity Precious Metals','Consumer Defensive','Utilities']"
   ]
  },
  {
   "cell_type": "code",
   "execution_count": 19,
   "metadata": {},
   "outputs": [],
   "source": [
    "#define a new feature to seperate funds according to morning stars\n",
    "data['fund_type'] = data.fund_category.apply(lambda x: 'U.S Equity Funds' if x in US_Equity_Fund \n",
    "                                                  else 'Allocation Funds' if x in Allocation_Funds \n",
    "                                                  else 'Municipal Bond Funds' if x in Municipal_Bond_Funds\n",
    "                                                  else 'International Equity Funds' if x in International_Equity_Funds\n",
    "                                                  else 'Taxable Bond Funds' if x in Taxable_Bond_Funds\n",
    "                                                  else 'Alternative Funds' if x in Alternative_Funds\n",
    "                                                  else 'Commodities' if x in Commodities\n",
    "                                                  else 'Sector Equity Funds')"
   ]
  },
  {
   "cell_type": "code",
   "execution_count": 20,
   "metadata": {},
   "outputs": [
    {
     "data": {
      "text/html": [
       "<div>\n",
       "<style scoped>\n",
       "    .dataframe tbody tr th:only-of-type {\n",
       "        vertical-align: middle;\n",
       "    }\n",
       "\n",
       "    .dataframe tbody tr th {\n",
       "        vertical-align: top;\n",
       "    }\n",
       "\n",
       "    .dataframe thead th {\n",
       "        text-align: right;\n",
       "    }\n",
       "</style>\n",
       "<table border=\"1\" class=\"dataframe\">\n",
       "  <thead>\n",
       "    <tr style=\"text-align: right;\">\n",
       "      <th></th>\n",
       "      <th>broker_id</th>\n",
       "      <th>city</th>\n",
       "      <th>broker_type</th>\n",
       "      <th>fund_category</th>\n",
       "      <th>email_opened</th>\n",
       "      <th>webex_meet</th>\n",
       "      <th>sales_call</th>\n",
       "      <th>firm_sales</th>\n",
       "      <th>global_sales</th>\n",
       "      <th>state</th>\n",
       "      <th>fund_type</th>\n",
       "    </tr>\n",
       "  </thead>\n",
       "  <tbody>\n",
       "    <tr>\n",
       "      <th>0</th>\n",
       "      <td>BRXX-1</td>\n",
       "      <td>PLANTATION</td>\n",
       "      <td>Inter-dealer broker</td>\n",
       "      <td>Emerging-Markets Local-Currency Bond</td>\n",
       "      <td>NaN</td>\n",
       "      <td>NaN</td>\n",
       "      <td>NaN</td>\n",
       "      <td>174.62</td>\n",
       "      <td>174.62</td>\n",
       "      <td>FL</td>\n",
       "      <td>Taxable Bond Funds</td>\n",
       "    </tr>\n",
       "    <tr>\n",
       "      <th>1</th>\n",
       "      <td>BRXX-1</td>\n",
       "      <td>BRANFORD</td>\n",
       "      <td>Inter-dealer broker</td>\n",
       "      <td>Utilities</td>\n",
       "      <td>NaN</td>\n",
       "      <td>NaN</td>\n",
       "      <td>NaN</td>\n",
       "      <td>0.00</td>\n",
       "      <td>0.00</td>\n",
       "      <td>CT</td>\n",
       "      <td>Sector Equity Funds</td>\n",
       "    </tr>\n",
       "    <tr>\n",
       "      <th>2</th>\n",
       "      <td>BRXX-1</td>\n",
       "      <td>JONESBORO</td>\n",
       "      <td>Inter-dealer broker</td>\n",
       "      <td>Intermediate Government</td>\n",
       "      <td>NaN</td>\n",
       "      <td>NaN</td>\n",
       "      <td>NaN</td>\n",
       "      <td>0.00</td>\n",
       "      <td>0.00</td>\n",
       "      <td>GA</td>\n",
       "      <td>Taxable Bond Funds</td>\n",
       "    </tr>\n",
       "    <tr>\n",
       "      <th>3</th>\n",
       "      <td>BRXX-2</td>\n",
       "      <td>VIENNA</td>\n",
       "      <td>Inter-dealer broker</td>\n",
       "      <td>Intermediate Government</td>\n",
       "      <td>Y</td>\n",
       "      <td>NaN</td>\n",
       "      <td>NaN</td>\n",
       "      <td>0.00</td>\n",
       "      <td>30709.00</td>\n",
       "      <td>VA</td>\n",
       "      <td>Taxable Bond Funds</td>\n",
       "    </tr>\n",
       "    <tr>\n",
       "      <th>4</th>\n",
       "      <td>BRXX-3</td>\n",
       "      <td>CHAGRIN FALLS</td>\n",
       "      <td>full-service broker</td>\n",
       "      <td>Target-Date 2050</td>\n",
       "      <td>Y</td>\n",
       "      <td>NaN</td>\n",
       "      <td>Y</td>\n",
       "      <td>0.00</td>\n",
       "      <td>0.00</td>\n",
       "      <td>OH</td>\n",
       "      <td>Allocation Funds</td>\n",
       "    </tr>\n",
       "  </tbody>\n",
       "</table>\n",
       "</div>"
      ],
      "text/plain": [
       "  broker_id           city          broker_type  \\\n",
       "0    BRXX-1     PLANTATION  Inter-dealer broker   \n",
       "1    BRXX-1       BRANFORD  Inter-dealer broker   \n",
       "2    BRXX-1      JONESBORO  Inter-dealer broker   \n",
       "3    BRXX-2         VIENNA  Inter-dealer broker   \n",
       "4    BRXX-3  CHAGRIN FALLS  full-service broker   \n",
       "\n",
       "                          fund_category email_opened webex_meet sales_call  \\\n",
       "0  Emerging-Markets Local-Currency Bond          NaN        NaN        NaN   \n",
       "1                             Utilities          NaN        NaN        NaN   \n",
       "2               Intermediate Government          NaN        NaN        NaN   \n",
       "3               Intermediate Government            Y        NaN        NaN   \n",
       "4                      Target-Date 2050            Y        NaN          Y   \n",
       "\n",
       "   firm_sales  global_sales state            fund_type  \n",
       "0      174.62        174.62    FL   Taxable Bond Funds  \n",
       "1        0.00          0.00    CT  Sector Equity Funds  \n",
       "2        0.00          0.00    GA   Taxable Bond Funds  \n",
       "3        0.00      30709.00    VA   Taxable Bond Funds  \n",
       "4        0.00          0.00    OH     Allocation Funds  "
      ]
     },
     "execution_count": 20,
     "metadata": {},
     "output_type": "execute_result"
    }
   ],
   "source": [
    "data.head()"
   ]
  },
  {
   "cell_type": "code",
   "execution_count": 21,
   "metadata": {},
   "outputs": [
    {
     "data": {
      "application/javascript": [
       "\n",
       "        if (window._pyforest_update_imports_cell) { window._pyforest_update_imports_cell('import pandas as pd\\nimport seaborn as sns'); }\n",
       "    "
      ],
      "text/plain": [
       "<IPython.core.display.Javascript object>"
      ]
     },
     "metadata": {},
     "output_type": "display_data"
    },
    {
     "data": {
      "text/plain": [
       "<matplotlib.axes._subplots.AxesSubplot at 0x224425004c8>"
      ]
     },
     "execution_count": 21,
     "metadata": {},
     "output_type": "execute_result"
    }
   ],
   "source": [
    "#missing values\n",
    "data_orig.head()\n",
    "sns.heatmap(data_orig.isnull(),yticklabels=False,cbar=False)\n",
    "#lesser the stripes, more the missing values"
   ]
  },
  {
   "cell_type": "code",
   "execution_count": 22,
   "metadata": {},
   "outputs": [],
   "source": [
    "#treating missing values\n",
    "data['email_opened'] = data['email_opened'].fillna('N')\n",
    "data['webex_meet'] = data['webex_meet'].fillna('N')\n",
    "data['sales_call'] = data['sales_call'].fillna('N')"
   ]
  },
  {
   "cell_type": "code",
   "execution_count": 23,
   "metadata": {},
   "outputs": [
    {
     "name": "stdout",
     "output_type": "stream",
     "text": [
      "+-------------+------------------+--------------+--------------+---------------+\n",
      "|  features   | feature_datatype | unique value | missing_valu | missing_value |\n",
      "|             |                  |              |      es      |      _%       |\n",
      "+-------------+------------------+--------------+--------------+---------------+\n",
      "|  broker_id  |      object      |     1178     |      0       |      0.0      |\n",
      "+-------------+------------------+--------------+--------------+---------------+\n",
      "|    city     |      object      |     7272     |      0       |      0.0      |\n",
      "+-------------+------------------+--------------+--------------+---------------+\n",
      "| broker_type |      object      |      2       |      0       |      0.0      |\n",
      "+-------------+------------------+--------------+--------------+---------------+\n",
      "| fund_catego |      object      |     103      |      0       |      0.0      |\n",
      "|     ry      |                  |              |              |               |\n",
      "+-------------+------------------+--------------+--------------+---------------+\n",
      "| email_opene |      object      |      2       |      0       |      0.0      |\n",
      "|      d      |                  |              |              |               |\n",
      "+-------------+------------------+--------------+--------------+---------------+\n",
      "| webex_meet  |      object      |      2       |      0       |      0.0      |\n",
      "+-------------+------------------+--------------+--------------+---------------+\n",
      "| sales_call  |      object      |      2       |      0       |      0.0      |\n",
      "+-------------+------------------+--------------+--------------+---------------+\n",
      "| firm_sales  |     float64      |    44958     |      0       |      0.0      |\n",
      "+-------------+------------------+--------------+--------------+---------------+\n",
      "| global_sale |     float64      |    360477    |      0       |      0.0      |\n",
      "|      s      |                  |              |              |               |\n",
      "+-------------+------------------+--------------+--------------+---------------+\n",
      "|    state    |      object      |      60      |      0       |      0.0      |\n",
      "+-------------+------------------+--------------+--------------+---------------+\n",
      "|  fund_type  |      object      |      8       |      0       |      0.0      |\n",
      "+-------------+------------------+--------------+--------------+---------------+\n"
     ]
    }
   ],
   "source": [
    "basic_check(data)"
   ]
  },
  {
   "cell_type": "code",
   "execution_count": 24,
   "metadata": {},
   "outputs": [
    {
     "data": {
      "text/plain": [
       "(37, 546335)"
      ]
     },
     "execution_count": 24,
     "metadata": {},
     "output_type": "execute_result"
    }
   ],
   "source": [
    "#check for any data errors\n",
    "data['city'].str.isnumeric().sum(), data['city'].str.isalpha().sum()"
   ]
  },
  {
   "cell_type": "code",
   "execution_count": 25,
   "metadata": {},
   "outputs": [
    {
     "data": {
      "text/html": [
       "<div>\n",
       "<style scoped>\n",
       "    .dataframe tbody tr th:only-of-type {\n",
       "        vertical-align: middle;\n",
       "    }\n",
       "\n",
       "    .dataframe tbody tr th {\n",
       "        vertical-align: top;\n",
       "    }\n",
       "\n",
       "    .dataframe thead th {\n",
       "        text-align: right;\n",
       "    }\n",
       "</style>\n",
       "<table border=\"1\" class=\"dataframe\">\n",
       "  <thead>\n",
       "    <tr style=\"text-align: right;\">\n",
       "      <th></th>\n",
       "      <th>broker_id</th>\n",
       "      <th>city</th>\n",
       "      <th>broker_type</th>\n",
       "      <th>fund_category</th>\n",
       "      <th>email_opened</th>\n",
       "      <th>webex_meet</th>\n",
       "      <th>sales_call</th>\n",
       "      <th>firm_sales</th>\n",
       "      <th>global_sales</th>\n",
       "      <th>state</th>\n",
       "      <th>fund_type</th>\n",
       "    </tr>\n",
       "  </thead>\n",
       "  <tbody>\n",
       "    <tr>\n",
       "      <th>12956</th>\n",
       "      <td>BRXX-188</td>\n",
       "      <td>64150</td>\n",
       "      <td>Inter-dealer broker</td>\n",
       "      <td>Equity Energy</td>\n",
       "      <td>N</td>\n",
       "      <td>N</td>\n",
       "      <td>N</td>\n",
       "      <td>0.0</td>\n",
       "      <td>0.00</td>\n",
       "      <td>MO</td>\n",
       "      <td>Sector Equity Funds</td>\n",
       "    </tr>\n",
       "    <tr>\n",
       "      <th>31538</th>\n",
       "      <td>BRXX-77</td>\n",
       "      <td>15801</td>\n",
       "      <td>Inter-dealer broker</td>\n",
       "      <td>World Small/Mid Stock</td>\n",
       "      <td>N</td>\n",
       "      <td>N</td>\n",
       "      <td>N</td>\n",
       "      <td>0.0</td>\n",
       "      <td>5110.16</td>\n",
       "      <td>PA</td>\n",
       "      <td>International Equity Funds</td>\n",
       "    </tr>\n",
       "    <tr>\n",
       "      <th>45478</th>\n",
       "      <td>BRXX-188</td>\n",
       "      <td>64150</td>\n",
       "      <td>Inter-dealer broker</td>\n",
       "      <td>Emerging Markets Bond</td>\n",
       "      <td>N</td>\n",
       "      <td>N</td>\n",
       "      <td>N</td>\n",
       "      <td>0.0</td>\n",
       "      <td>0.00</td>\n",
       "      <td>MO</td>\n",
       "      <td>Taxable Bond Funds</td>\n",
       "    </tr>\n",
       "    <tr>\n",
       "      <th>95111</th>\n",
       "      <td>BRXX-77</td>\n",
       "      <td>15801</td>\n",
       "      <td>Inter-dealer broker</td>\n",
       "      <td>World Bond</td>\n",
       "      <td>N</td>\n",
       "      <td>N</td>\n",
       "      <td>N</td>\n",
       "      <td>0.0</td>\n",
       "      <td>0.00</td>\n",
       "      <td>PA</td>\n",
       "      <td>Taxable Bond Funds</td>\n",
       "    </tr>\n",
       "    <tr>\n",
       "      <th>107878</th>\n",
       "      <td>BRXX-188</td>\n",
       "      <td>64150</td>\n",
       "      <td>Inter-dealer broker</td>\n",
       "      <td>Short-Term Bond</td>\n",
       "      <td>N</td>\n",
       "      <td>N</td>\n",
       "      <td>N</td>\n",
       "      <td>0.0</td>\n",
       "      <td>0.00</td>\n",
       "      <td>MO</td>\n",
       "      <td>Taxable Bond Funds</td>\n",
       "    </tr>\n",
       "    <tr>\n",
       "      <th>122236</th>\n",
       "      <td>BRXX-70</td>\n",
       "      <td>95678</td>\n",
       "      <td>Inter-dealer broker</td>\n",
       "      <td>Allocation--70% to 85% Equity</td>\n",
       "      <td>N</td>\n",
       "      <td>N</td>\n",
       "      <td>N</td>\n",
       "      <td>0.0</td>\n",
       "      <td>670.64</td>\n",
       "      <td>CA</td>\n",
       "      <td>Allocation Funds</td>\n",
       "    </tr>\n",
       "  </tbody>\n",
       "</table>\n",
       "</div>"
      ],
      "text/plain": [
       "       broker_id   city          broker_type                  fund_category  \\\n",
       "12956   BRXX-188  64150  Inter-dealer broker                  Equity Energy   \n",
       "31538    BRXX-77  15801  Inter-dealer broker          World Small/Mid Stock   \n",
       "45478   BRXX-188  64150  Inter-dealer broker          Emerging Markets Bond   \n",
       "95111    BRXX-77  15801  Inter-dealer broker                     World Bond   \n",
       "107878  BRXX-188  64150  Inter-dealer broker                Short-Term Bond   \n",
       "122236   BRXX-70  95678  Inter-dealer broker  Allocation--70% to 85% Equity   \n",
       "\n",
       "       email_opened webex_meet sales_call  firm_sales  global_sales state  \\\n",
       "12956             N          N          N         0.0          0.00    MO   \n",
       "31538             N          N          N         0.0       5110.16    PA   \n",
       "45478             N          N          N         0.0          0.00    MO   \n",
       "95111             N          N          N         0.0          0.00    PA   \n",
       "107878            N          N          N         0.0          0.00    MO   \n",
       "122236            N          N          N         0.0        670.64    CA   \n",
       "\n",
       "                         fund_type  \n",
       "12956          Sector Equity Funds  \n",
       "31538   International Equity Funds  \n",
       "45478           Taxable Bond Funds  \n",
       "95111           Taxable Bond Funds  \n",
       "107878          Taxable Bond Funds  \n",
       "122236            Allocation Funds  "
      ]
     },
     "execution_count": 25,
     "metadata": {},
     "output_type": "execute_result"
    }
   ],
   "source": [
    "#to check abnormalities in data (city is given with code)\n",
    "data[data['city'].str.isnumeric()].head(6)"
   ]
  },
  {
   "cell_type": "code",
   "execution_count": 26,
   "metadata": {},
   "outputs": [],
   "source": [
    "#replace code with city names (outsource)\n",
    "data['city'] = data['city'].str.replace('15801', 'Du Bois')\n",
    "data['city'] = data['city'].str.replace('64150', 'Riverside')\n",
    "data['city'] = data['city'].str.replace('95678', 'Roseville')"
   ]
  },
  {
   "cell_type": "code",
   "execution_count": 27,
   "metadata": {},
   "outputs": [
    {
     "data": {
      "text/html": [
       "<div>\n",
       "<style scoped>\n",
       "    .dataframe tbody tr th:only-of-type {\n",
       "        vertical-align: middle;\n",
       "    }\n",
       "\n",
       "    .dataframe tbody tr th {\n",
       "        vertical-align: top;\n",
       "    }\n",
       "\n",
       "    .dataframe thead th {\n",
       "        text-align: right;\n",
       "    }\n",
       "</style>\n",
       "<table border=\"1\" class=\"dataframe\">\n",
       "  <thead>\n",
       "    <tr style=\"text-align: right;\">\n",
       "      <th></th>\n",
       "      <th>broker_id</th>\n",
       "      <th>city</th>\n",
       "      <th>broker_type</th>\n",
       "      <th>fund_category</th>\n",
       "      <th>email_opened</th>\n",
       "      <th>webex_meet</th>\n",
       "      <th>sales_call</th>\n",
       "      <th>firm_sales</th>\n",
       "      <th>global_sales</th>\n",
       "      <th>state</th>\n",
       "      <th>fund_type</th>\n",
       "    </tr>\n",
       "  </thead>\n",
       "  <tbody>\n",
       "  </tbody>\n",
       "</table>\n",
       "</div>"
      ],
      "text/plain": [
       "Empty DataFrame\n",
       "Columns: [broker_id, city, broker_type, fund_category, email_opened, webex_meet, sales_call, firm_sales, global_sales, state, fund_type]\n",
       "Index: []"
      ]
     },
     "execution_count": 27,
     "metadata": {},
     "output_type": "execute_result"
    }
   ],
   "source": [
    "data[data['city'].str.isnumeric()].head(6)  #make sure there is 0 rows"
   ]
  },
  {
   "cell_type": "code",
   "execution_count": 28,
   "metadata": {},
   "outputs": [],
   "source": [
    "data['state'] = data['state'].str.replace(' ', '')"
   ]
  },
  {
   "cell_type": "code",
   "execution_count": 29,
   "metadata": {},
   "outputs": [
    {
     "data": {
      "text/html": [
       "<div>\n",
       "<style scoped>\n",
       "    .dataframe tbody tr th:only-of-type {\n",
       "        vertical-align: middle;\n",
       "    }\n",
       "\n",
       "    .dataframe tbody tr th {\n",
       "        vertical-align: top;\n",
       "    }\n",
       "\n",
       "    .dataframe thead th {\n",
       "        text-align: right;\n",
       "    }\n",
       "</style>\n",
       "<table border=\"1\" class=\"dataframe\">\n",
       "  <thead>\n",
       "    <tr style=\"text-align: right;\">\n",
       "      <th></th>\n",
       "      <th>broker_id</th>\n",
       "      <th>city</th>\n",
       "      <th>broker_type</th>\n",
       "      <th>fund_category</th>\n",
       "      <th>email_opened</th>\n",
       "      <th>webex_meet</th>\n",
       "      <th>sales_call</th>\n",
       "      <th>firm_sales</th>\n",
       "      <th>global_sales</th>\n",
       "      <th>state</th>\n",
       "      <th>fund_type</th>\n",
       "    </tr>\n",
       "  </thead>\n",
       "  <tbody>\n",
       "    <tr>\n",
       "      <th>0</th>\n",
       "      <td>BRXX-1</td>\n",
       "      <td>PLANTATION</td>\n",
       "      <td>Inter-dealer broker</td>\n",
       "      <td>Emerging-Markets Local-Currency Bond</td>\n",
       "      <td>N</td>\n",
       "      <td>N</td>\n",
       "      <td>N</td>\n",
       "      <td>174.62</td>\n",
       "      <td>174.62</td>\n",
       "      <td>FL</td>\n",
       "      <td>Taxable Bond Funds</td>\n",
       "    </tr>\n",
       "    <tr>\n",
       "      <th>1</th>\n",
       "      <td>BRXX-1</td>\n",
       "      <td>BRANFORD</td>\n",
       "      <td>Inter-dealer broker</td>\n",
       "      <td>Utilities</td>\n",
       "      <td>N</td>\n",
       "      <td>N</td>\n",
       "      <td>N</td>\n",
       "      <td>0.00</td>\n",
       "      <td>0.00</td>\n",
       "      <td>CT</td>\n",
       "      <td>Sector Equity Funds</td>\n",
       "    </tr>\n",
       "    <tr>\n",
       "      <th>2</th>\n",
       "      <td>BRXX-1</td>\n",
       "      <td>JONESBORO</td>\n",
       "      <td>Inter-dealer broker</td>\n",
       "      <td>Intermediate Government</td>\n",
       "      <td>N</td>\n",
       "      <td>N</td>\n",
       "      <td>N</td>\n",
       "      <td>0.00</td>\n",
       "      <td>0.00</td>\n",
       "      <td>GA</td>\n",
       "      <td>Taxable Bond Funds</td>\n",
       "    </tr>\n",
       "    <tr>\n",
       "      <th>3</th>\n",
       "      <td>BRXX-2</td>\n",
       "      <td>VIENNA</td>\n",
       "      <td>Inter-dealer broker</td>\n",
       "      <td>Intermediate Government</td>\n",
       "      <td>Y</td>\n",
       "      <td>N</td>\n",
       "      <td>N</td>\n",
       "      <td>0.00</td>\n",
       "      <td>30709.00</td>\n",
       "      <td>VA</td>\n",
       "      <td>Taxable Bond Funds</td>\n",
       "    </tr>\n",
       "    <tr>\n",
       "      <th>4</th>\n",
       "      <td>BRXX-3</td>\n",
       "      <td>CHAGRIN FALLS</td>\n",
       "      <td>full-service broker</td>\n",
       "      <td>Target-Date 2050</td>\n",
       "      <td>Y</td>\n",
       "      <td>N</td>\n",
       "      <td>Y</td>\n",
       "      <td>0.00</td>\n",
       "      <td>0.00</td>\n",
       "      <td>OH</td>\n",
       "      <td>Allocation Funds</td>\n",
       "    </tr>\n",
       "  </tbody>\n",
       "</table>\n",
       "</div>"
      ],
      "text/plain": [
       "  broker_id           city          broker_type  \\\n",
       "0    BRXX-1     PLANTATION  Inter-dealer broker   \n",
       "1    BRXX-1       BRANFORD  Inter-dealer broker   \n",
       "2    BRXX-1      JONESBORO  Inter-dealer broker   \n",
       "3    BRXX-2         VIENNA  Inter-dealer broker   \n",
       "4    BRXX-3  CHAGRIN FALLS  full-service broker   \n",
       "\n",
       "                          fund_category email_opened webex_meet sales_call  \\\n",
       "0  Emerging-Markets Local-Currency Bond            N          N          N   \n",
       "1                             Utilities            N          N          N   \n",
       "2               Intermediate Government            N          N          N   \n",
       "3               Intermediate Government            Y          N          N   \n",
       "4                      Target-Date 2050            Y          N          Y   \n",
       "\n",
       "   firm_sales  global_sales state            fund_type  \n",
       "0      174.62        174.62    FL   Taxable Bond Funds  \n",
       "1        0.00          0.00    CT  Sector Equity Funds  \n",
       "2        0.00          0.00    GA   Taxable Bond Funds  \n",
       "3        0.00      30709.00    VA   Taxable Bond Funds  \n",
       "4        0.00          0.00    OH     Allocation Funds  "
      ]
     },
     "execution_count": 29,
     "metadata": {},
     "output_type": "execute_result"
    }
   ],
   "source": [
    "data.head(5)"
   ]
  },
  {
   "cell_type": "code",
   "execution_count": 30,
   "metadata": {},
   "outputs": [
    {
     "data": {
      "text/html": [
       "<div>\n",
       "<style scoped>\n",
       "    .dataframe tbody tr th:only-of-type {\n",
       "        vertical-align: middle;\n",
       "    }\n",
       "\n",
       "    .dataframe tbody tr th {\n",
       "        vertical-align: top;\n",
       "    }\n",
       "\n",
       "    .dataframe thead th {\n",
       "        text-align: right;\n",
       "    }\n",
       "</style>\n",
       "<table border=\"1\" class=\"dataframe\">\n",
       "  <thead>\n",
       "    <tr style=\"text-align: right;\">\n",
       "      <th></th>\n",
       "      <th>broker_id</th>\n",
       "      <th>city</th>\n",
       "      <th>broker_type</th>\n",
       "      <th>fund_category</th>\n",
       "      <th>email_opened</th>\n",
       "      <th>webex_meet</th>\n",
       "      <th>sales_call</th>\n",
       "      <th>firm_sales</th>\n",
       "      <th>global_sales</th>\n",
       "      <th>state</th>\n",
       "      <th>fund_type</th>\n",
       "    </tr>\n",
       "  </thead>\n",
       "  <tbody>\n",
       "    <tr>\n",
       "      <th>4290</th>\n",
       "      <td>BRXX-84</td>\n",
       "      <td>BEL AIR</td>\n",
       "      <td>Inter-dealer broker</td>\n",
       "      <td>Large Value</td>\n",
       "      <td>Y</td>\n",
       "      <td>N</td>\n",
       "      <td>N</td>\n",
       "      <td>0.0</td>\n",
       "      <td>4535.00</td>\n",
       "      <td>,MD</td>\n",
       "      <td>U.S Equity Funds</td>\n",
       "    </tr>\n",
       "    <tr>\n",
       "      <th>9304</th>\n",
       "      <td>BRXX-55</td>\n",
       "      <td>WEST HARTFORD</td>\n",
       "      <td>Inter-dealer broker</td>\n",
       "      <td>Large Value</td>\n",
       "      <td>Y</td>\n",
       "      <td>N</td>\n",
       "      <td>N</td>\n",
       "      <td>0.0</td>\n",
       "      <td>3646.28</td>\n",
       "      <td>,CT</td>\n",
       "      <td>U.S Equity Funds</td>\n",
       "    </tr>\n",
       "    <tr>\n",
       "      <th>20477</th>\n",
       "      <td>BRXX-70</td>\n",
       "      <td>MOUNT PLEASANT</td>\n",
       "      <td>Inter-dealer broker</td>\n",
       "      <td>Europe Stock</td>\n",
       "      <td>N</td>\n",
       "      <td>N</td>\n",
       "      <td>N</td>\n",
       "      <td>0.0</td>\n",
       "      <td>0.00</td>\n",
       "      <td>,WI</td>\n",
       "      <td>International Equity Funds</td>\n",
       "    </tr>\n",
       "    <tr>\n",
       "      <th>25986</th>\n",
       "      <td>BRXX-70</td>\n",
       "      <td>MOUNT PLEASANT</td>\n",
       "      <td>Inter-dealer broker</td>\n",
       "      <td>Large Growth</td>\n",
       "      <td>N</td>\n",
       "      <td>N</td>\n",
       "      <td>N</td>\n",
       "      <td>0.0</td>\n",
       "      <td>150.69</td>\n",
       "      <td>,WI</td>\n",
       "      <td>U.S Equity Funds</td>\n",
       "    </tr>\n",
       "    <tr>\n",
       "      <th>26244</th>\n",
       "      <td>BRXX-84</td>\n",
       "      <td>BEL AIR</td>\n",
       "      <td>Inter-dealer broker</td>\n",
       "      <td>Large Growth</td>\n",
       "      <td>Y</td>\n",
       "      <td>N</td>\n",
       "      <td>N</td>\n",
       "      <td>0.0</td>\n",
       "      <td>18264.18</td>\n",
       "      <td>,MD</td>\n",
       "      <td>U.S Equity Funds</td>\n",
       "    </tr>\n",
       "    <tr>\n",
       "      <th>50331</th>\n",
       "      <td>BRXX-84</td>\n",
       "      <td>BEL AIR</td>\n",
       "      <td>Inter-dealer broker</td>\n",
       "      <td>Target-Date 2050</td>\n",
       "      <td>Y</td>\n",
       "      <td>N</td>\n",
       "      <td>N</td>\n",
       "      <td>0.0</td>\n",
       "      <td>1400.00</td>\n",
       "      <td>,MD</td>\n",
       "      <td>Allocation Funds</td>\n",
       "    </tr>\n",
       "    <tr>\n",
       "      <th>58527</th>\n",
       "      <td>BRXX-84</td>\n",
       "      <td>BEL AIR</td>\n",
       "      <td>Inter-dealer broker</td>\n",
       "      <td>Foreign Large Growth</td>\n",
       "      <td>Y</td>\n",
       "      <td>N</td>\n",
       "      <td>N</td>\n",
       "      <td>0.0</td>\n",
       "      <td>1813.55</td>\n",
       "      <td>,MD</td>\n",
       "      <td>International Equity Funds</td>\n",
       "    </tr>\n",
       "    <tr>\n",
       "      <th>64117</th>\n",
       "      <td>BRXX-80</td>\n",
       "      <td>KNOXVILLE</td>\n",
       "      <td>Inter-dealer broker</td>\n",
       "      <td>Mid-Cap Growth</td>\n",
       "      <td>N</td>\n",
       "      <td>N</td>\n",
       "      <td>N</td>\n",
       "      <td>0.0</td>\n",
       "      <td>600.00</td>\n",
       "      <td>TN,TN</td>\n",
       "      <td>U.S Equity Funds</td>\n",
       "    </tr>\n",
       "    <tr>\n",
       "      <th>68941</th>\n",
       "      <td>BRXX-55</td>\n",
       "      <td>WEST HARTFORD</td>\n",
       "      <td>Inter-dealer broker</td>\n",
       "      <td>Short-Term Bond</td>\n",
       "      <td>Y</td>\n",
       "      <td>N</td>\n",
       "      <td>N</td>\n",
       "      <td>0.0</td>\n",
       "      <td>686.83</td>\n",
       "      <td>,CT</td>\n",
       "      <td>Taxable Bond Funds</td>\n",
       "    </tr>\n",
       "    <tr>\n",
       "      <th>73940</th>\n",
       "      <td>BRXX-312</td>\n",
       "      <td>BARRE</td>\n",
       "      <td>Inter-dealer broker</td>\n",
       "      <td>Equity Precious Metals</td>\n",
       "      <td>N</td>\n",
       "      <td>N</td>\n",
       "      <td>N</td>\n",
       "      <td>0.0</td>\n",
       "      <td>637.50</td>\n",
       "      <td>,VT</td>\n",
       "      <td>Sector Equity Funds</td>\n",
       "    </tr>\n",
       "    <tr>\n",
       "      <th>84496</th>\n",
       "      <td>BRXX-70</td>\n",
       "      <td>MOUNT PLEASANT</td>\n",
       "      <td>Inter-dealer broker</td>\n",
       "      <td>Foreign Large Growth</td>\n",
       "      <td>N</td>\n",
       "      <td>N</td>\n",
       "      <td>N</td>\n",
       "      <td>0.0</td>\n",
       "      <td>1322.00</td>\n",
       "      <td>,WI</td>\n",
       "      <td>International Equity Funds</td>\n",
       "    </tr>\n",
       "    <tr>\n",
       "      <th>97231</th>\n",
       "      <td>BRXX-130</td>\n",
       "      <td>BURLINGAME</td>\n",
       "      <td>Inter-dealer broker</td>\n",
       "      <td>Ultrashort Bond</td>\n",
       "      <td>N</td>\n",
       "      <td>N</td>\n",
       "      <td>N</td>\n",
       "      <td>0.0</td>\n",
       "      <td>0.00</td>\n",
       "      <td>,CA</td>\n",
       "      <td>Taxable Bond Funds</td>\n",
       "    </tr>\n",
       "    <tr>\n",
       "      <th>99999</th>\n",
       "      <td>BRXX-130</td>\n",
       "      <td>BURLINGAME</td>\n",
       "      <td>Inter-dealer broker</td>\n",
       "      <td>Allocation--15% to 30% Equity</td>\n",
       "      <td>N</td>\n",
       "      <td>N</td>\n",
       "      <td>N</td>\n",
       "      <td>0.0</td>\n",
       "      <td>0.00</td>\n",
       "      <td>,CA</td>\n",
       "      <td>Allocation Funds</td>\n",
       "    </tr>\n",
       "    <tr>\n",
       "      <th>104636</th>\n",
       "      <td>BRXX-130</td>\n",
       "      <td>BURLINGAME</td>\n",
       "      <td>Inter-dealer broker</td>\n",
       "      <td>Nontraditional Bond</td>\n",
       "      <td>N</td>\n",
       "      <td>N</td>\n",
       "      <td>N</td>\n",
       "      <td>0.0</td>\n",
       "      <td>0.00</td>\n",
       "      <td>,CA</td>\n",
       "      <td>Taxable Bond Funds</td>\n",
       "    </tr>\n",
       "    <tr>\n",
       "      <th>105020</th>\n",
       "      <td>BRXX-80</td>\n",
       "      <td>KNOXVILLE</td>\n",
       "      <td>Inter-dealer broker</td>\n",
       "      <td>Bank Loan</td>\n",
       "      <td>N</td>\n",
       "      <td>N</td>\n",
       "      <td>N</td>\n",
       "      <td>0.0</td>\n",
       "      <td>0.00</td>\n",
       "      <td>TN,TN</td>\n",
       "      <td>Taxable Bond Funds</td>\n",
       "    </tr>\n",
       "    <tr>\n",
       "      <th>109324</th>\n",
       "      <td>BRXX-312</td>\n",
       "      <td>BARRE</td>\n",
       "      <td>Inter-dealer broker</td>\n",
       "      <td>Mid-Cap Blend</td>\n",
       "      <td>N</td>\n",
       "      <td>N</td>\n",
       "      <td>N</td>\n",
       "      <td>0.0</td>\n",
       "      <td>1285.53</td>\n",
       "      <td>,VT</td>\n",
       "      <td>U.S Equity Funds</td>\n",
       "    </tr>\n",
       "    <tr>\n",
       "      <th>122302</th>\n",
       "      <td>BRXX-70</td>\n",
       "      <td>MOUNT PLEASANT</td>\n",
       "      <td>Inter-dealer broker</td>\n",
       "      <td>Allocation--50% to 70% Equity</td>\n",
       "      <td>N</td>\n",
       "      <td>N</td>\n",
       "      <td>N</td>\n",
       "      <td>0.0</td>\n",
       "      <td>641.41</td>\n",
       "      <td>,WI</td>\n",
       "      <td>Allocation Funds</td>\n",
       "    </tr>\n",
       "    <tr>\n",
       "      <th>161873</th>\n",
       "      <td>BRXX-80</td>\n",
       "      <td>KNOXVILLE</td>\n",
       "      <td>Inter-dealer broker</td>\n",
       "      <td>World Small/Mid Stock</td>\n",
       "      <td>N</td>\n",
       "      <td>N</td>\n",
       "      <td>N</td>\n",
       "      <td>0.0</td>\n",
       "      <td>244.78</td>\n",
       "      <td>TN,TN</td>\n",
       "      <td>International Equity Funds</td>\n",
       "    </tr>\n",
       "    <tr>\n",
       "      <th>165978</th>\n",
       "      <td>BRXX-70</td>\n",
       "      <td>MOUNT PLEASANT</td>\n",
       "      <td>Inter-dealer broker</td>\n",
       "      <td>Large Blend</td>\n",
       "      <td>N</td>\n",
       "      <td>N</td>\n",
       "      <td>N</td>\n",
       "      <td>0.0</td>\n",
       "      <td>26109.69</td>\n",
       "      <td>,WI</td>\n",
       "      <td>U.S Equity Funds</td>\n",
       "    </tr>\n",
       "    <tr>\n",
       "      <th>168087</th>\n",
       "      <td>BRXX-80</td>\n",
       "      <td>KNOXVILLE</td>\n",
       "      <td>Inter-dealer broker</td>\n",
       "      <td>Allocation--70% to 85% Equity</td>\n",
       "      <td>N</td>\n",
       "      <td>N</td>\n",
       "      <td>N</td>\n",
       "      <td>0.0</td>\n",
       "      <td>75.00</td>\n",
       "      <td>TN,TN</td>\n",
       "      <td>Allocation Funds</td>\n",
       "    </tr>\n",
       "    <tr>\n",
       "      <th>168090</th>\n",
       "      <td>BRXX-80</td>\n",
       "      <td>KNOXVILLE</td>\n",
       "      <td>Inter-dealer broker</td>\n",
       "      <td>High Yield Muni</td>\n",
       "      <td>N</td>\n",
       "      <td>N</td>\n",
       "      <td>N</td>\n",
       "      <td>0.0</td>\n",
       "      <td>345.98</td>\n",
       "      <td>TN,TN</td>\n",
       "      <td>Municipal Bond Funds</td>\n",
       "    </tr>\n",
       "    <tr>\n",
       "      <th>188332</th>\n",
       "      <td>BRXX-80</td>\n",
       "      <td>KNOXVILLE</td>\n",
       "      <td>Inter-dealer broker</td>\n",
       "      <td>Long-Short Credit</td>\n",
       "      <td>N</td>\n",
       "      <td>N</td>\n",
       "      <td>N</td>\n",
       "      <td>0.0</td>\n",
       "      <td>0.00</td>\n",
       "      <td>TN,TN</td>\n",
       "      <td>Alternative Funds</td>\n",
       "    </tr>\n",
       "    <tr>\n",
       "      <th>197359</th>\n",
       "      <td>BRXX-55</td>\n",
       "      <td>WEST HARTFORD</td>\n",
       "      <td>Inter-dealer broker</td>\n",
       "      <td>Multisector Bond</td>\n",
       "      <td>Y</td>\n",
       "      <td>N</td>\n",
       "      <td>N</td>\n",
       "      <td>0.0</td>\n",
       "      <td>101516.33</td>\n",
       "      <td>,CT</td>\n",
       "      <td>Taxable Bond Funds</td>\n",
       "    </tr>\n",
       "    <tr>\n",
       "      <th>215953</th>\n",
       "      <td>BRXX-80</td>\n",
       "      <td>KNOXVILLE</td>\n",
       "      <td>Inter-dealer broker</td>\n",
       "      <td>Large Growth</td>\n",
       "      <td>N</td>\n",
       "      <td>N</td>\n",
       "      <td>N</td>\n",
       "      <td>0.0</td>\n",
       "      <td>28803.07</td>\n",
       "      <td>TN,TN</td>\n",
       "      <td>U.S Equity Funds</td>\n",
       "    </tr>\n",
       "    <tr>\n",
       "      <th>215964</th>\n",
       "      <td>BRXX-80</td>\n",
       "      <td>KNOXVILLE</td>\n",
       "      <td>Inter-dealer broker</td>\n",
       "      <td>Short-Term Bond</td>\n",
       "      <td>N</td>\n",
       "      <td>N</td>\n",
       "      <td>N</td>\n",
       "      <td>0.0</td>\n",
       "      <td>325.00</td>\n",
       "      <td>TN,TN</td>\n",
       "      <td>Taxable Bond Funds</td>\n",
       "    </tr>\n",
       "    <tr>\n",
       "      <th>216873</th>\n",
       "      <td>BRXX-373</td>\n",
       "      <td>WASHINGTON</td>\n",
       "      <td>Inter-dealer broker</td>\n",
       "      <td>World Bond</td>\n",
       "      <td>N</td>\n",
       "      <td>N</td>\n",
       "      <td>N</td>\n",
       "      <td>0.0</td>\n",
       "      <td>0.00</td>\n",
       "      <td>DC,DC</td>\n",
       "      <td>Taxable Bond Funds</td>\n",
       "    </tr>\n",
       "    <tr>\n",
       "      <th>220462</th>\n",
       "      <td>BRXX-70</td>\n",
       "      <td>MOUNT PLEASANT</td>\n",
       "      <td>Inter-dealer broker</td>\n",
       "      <td>Small Value</td>\n",
       "      <td>N</td>\n",
       "      <td>N</td>\n",
       "      <td>N</td>\n",
       "      <td>0.0</td>\n",
       "      <td>0.00</td>\n",
       "      <td>,WI</td>\n",
       "      <td>U.S Equity Funds</td>\n",
       "    </tr>\n",
       "    <tr>\n",
       "      <th>257010</th>\n",
       "      <td>BRXX-80</td>\n",
       "      <td>KNOXVILLE</td>\n",
       "      <td>Inter-dealer broker</td>\n",
       "      <td>Allocation--30% to 50% Equity</td>\n",
       "      <td>N</td>\n",
       "      <td>N</td>\n",
       "      <td>N</td>\n",
       "      <td>0.0</td>\n",
       "      <td>25118.00</td>\n",
       "      <td>TN,TN</td>\n",
       "      <td>Allocation Funds</td>\n",
       "    </tr>\n",
       "    <tr>\n",
       "      <th>278311</th>\n",
       "      <td>BRXX-70</td>\n",
       "      <td>MOUNT PLEASANT</td>\n",
       "      <td>Inter-dealer broker</td>\n",
       "      <td>Diversified Emerging Mkts</td>\n",
       "      <td>N</td>\n",
       "      <td>N</td>\n",
       "      <td>N</td>\n",
       "      <td>0.0</td>\n",
       "      <td>640.00</td>\n",
       "      <td>,WI</td>\n",
       "      <td>International Equity Funds</td>\n",
       "    </tr>\n",
       "    <tr>\n",
       "      <th>280007</th>\n",
       "      <td>BRXX-55</td>\n",
       "      <td>WEST HARTFORD</td>\n",
       "      <td>Inter-dealer broker</td>\n",
       "      <td>Foreign Large Blend</td>\n",
       "      <td>Y</td>\n",
       "      <td>N</td>\n",
       "      <td>N</td>\n",
       "      <td>0.0</td>\n",
       "      <td>1004.32</td>\n",
       "      <td>,CT</td>\n",
       "      <td>International Equity Funds</td>\n",
       "    </tr>\n",
       "    <tr>\n",
       "      <th>281930</th>\n",
       "      <td>BRXX-70</td>\n",
       "      <td>MOUNT PLEASANT</td>\n",
       "      <td>Inter-dealer broker</td>\n",
       "      <td>Managed Futures</td>\n",
       "      <td>N</td>\n",
       "      <td>N</td>\n",
       "      <td>N</td>\n",
       "      <td>0.0</td>\n",
       "      <td>0.00</td>\n",
       "      <td>,WI</td>\n",
       "      <td>Alternative Funds</td>\n",
       "    </tr>\n",
       "    <tr>\n",
       "      <th>316606</th>\n",
       "      <td>BRXX-373</td>\n",
       "      <td>WASHINGTON</td>\n",
       "      <td>Inter-dealer broker</td>\n",
       "      <td>Large Value</td>\n",
       "      <td>N</td>\n",
       "      <td>N</td>\n",
       "      <td>N</td>\n",
       "      <td>0.0</td>\n",
       "      <td>8500.00</td>\n",
       "      <td>DC,DC</td>\n",
       "      <td>U.S Equity Funds</td>\n",
       "    </tr>\n",
       "    <tr>\n",
       "      <th>352753</th>\n",
       "      <td>BRXX-55</td>\n",
       "      <td>WEST HARTFORD</td>\n",
       "      <td>Inter-dealer broker</td>\n",
       "      <td>Foreign Small/Mid Blend</td>\n",
       "      <td>Y</td>\n",
       "      <td>N</td>\n",
       "      <td>N</td>\n",
       "      <td>0.0</td>\n",
       "      <td>17088.24</td>\n",
       "      <td>,CT</td>\n",
       "      <td>International Equity Funds</td>\n",
       "    </tr>\n",
       "    <tr>\n",
       "      <th>371146</th>\n",
       "      <td>BRXX-373</td>\n",
       "      <td>WASHINGTON</td>\n",
       "      <td>Inter-dealer broker</td>\n",
       "      <td>Managed Futures</td>\n",
       "      <td>N</td>\n",
       "      <td>N</td>\n",
       "      <td>N</td>\n",
       "      <td>0.0</td>\n",
       "      <td>0.00</td>\n",
       "      <td>DC,DC</td>\n",
       "      <td>Alternative Funds</td>\n",
       "    </tr>\n",
       "    <tr>\n",
       "      <th>417631</th>\n",
       "      <td>BRXX-55</td>\n",
       "      <td>WEST HARTFORD</td>\n",
       "      <td>Inter-dealer broker</td>\n",
       "      <td>Foreign Large Growth</td>\n",
       "      <td>Y</td>\n",
       "      <td>N</td>\n",
       "      <td>N</td>\n",
       "      <td>0.0</td>\n",
       "      <td>2540.22</td>\n",
       "      <td>,CT</td>\n",
       "      <td>International Equity Funds</td>\n",
       "    </tr>\n",
       "    <tr>\n",
       "      <th>458441</th>\n",
       "      <td>BRXX-312</td>\n",
       "      <td>BARRE</td>\n",
       "      <td>Inter-dealer broker</td>\n",
       "      <td>Large Growth</td>\n",
       "      <td>N</td>\n",
       "      <td>N</td>\n",
       "      <td>N</td>\n",
       "      <td>0.0</td>\n",
       "      <td>2399.15</td>\n",
       "      <td>,VT</td>\n",
       "      <td>U.S Equity Funds</td>\n",
       "    </tr>\n",
       "    <tr>\n",
       "      <th>466084</th>\n",
       "      <td>BRXX-80</td>\n",
       "      <td>KNOXVILLE</td>\n",
       "      <td>Inter-dealer broker</td>\n",
       "      <td>Allocation--50% to 70% Equity</td>\n",
       "      <td>N</td>\n",
       "      <td>N</td>\n",
       "      <td>N</td>\n",
       "      <td>0.0</td>\n",
       "      <td>4616.81</td>\n",
       "      <td>TN,TN</td>\n",
       "      <td>Allocation Funds</td>\n",
       "    </tr>\n",
       "    <tr>\n",
       "      <th>469237</th>\n",
       "      <td>BRXX-130</td>\n",
       "      <td>BURLINGAME</td>\n",
       "      <td>Inter-dealer broker</td>\n",
       "      <td>Short-Term Bond</td>\n",
       "      <td>N</td>\n",
       "      <td>N</td>\n",
       "      <td>N</td>\n",
       "      <td>0.0</td>\n",
       "      <td>2000.00</td>\n",
       "      <td>,CA</td>\n",
       "      <td>Taxable Bond Funds</td>\n",
       "    </tr>\n",
       "    <tr>\n",
       "      <th>484050</th>\n",
       "      <td>BRXX-55</td>\n",
       "      <td>WEST HARTFORD</td>\n",
       "      <td>Inter-dealer broker</td>\n",
       "      <td>Target-Date 2030</td>\n",
       "      <td>Y</td>\n",
       "      <td>N</td>\n",
       "      <td>N</td>\n",
       "      <td>0.0</td>\n",
       "      <td>4297.62</td>\n",
       "      <td>,CT</td>\n",
       "      <td>Allocation Funds</td>\n",
       "    </tr>\n",
       "    <tr>\n",
       "      <th>485867</th>\n",
       "      <td>BRXX-84</td>\n",
       "      <td>BEL AIR</td>\n",
       "      <td>Inter-dealer broker</td>\n",
       "      <td>World Small/Mid Stock</td>\n",
       "      <td>Y</td>\n",
       "      <td>N</td>\n",
       "      <td>N</td>\n",
       "      <td>0.0</td>\n",
       "      <td>1078.55</td>\n",
       "      <td>,MD</td>\n",
       "      <td>International Equity Funds</td>\n",
       "    </tr>\n",
       "    <tr>\n",
       "      <th>488099</th>\n",
       "      <td>BRXX-55</td>\n",
       "      <td>WEST HARTFORD</td>\n",
       "      <td>Inter-dealer broker</td>\n",
       "      <td>World Small/Mid Stock</td>\n",
       "      <td>Y</td>\n",
       "      <td>N</td>\n",
       "      <td>N</td>\n",
       "      <td>0.0</td>\n",
       "      <td>1125.24</td>\n",
       "      <td>,CT</td>\n",
       "      <td>International Equity Funds</td>\n",
       "    </tr>\n",
       "    <tr>\n",
       "      <th>489207</th>\n",
       "      <td>BRXX-312</td>\n",
       "      <td>BARRE</td>\n",
       "      <td>Inter-dealer broker</td>\n",
       "      <td>World Small/Mid Stock</td>\n",
       "      <td>N</td>\n",
       "      <td>N</td>\n",
       "      <td>N</td>\n",
       "      <td>0.0</td>\n",
       "      <td>1907.32</td>\n",
       "      <td>,VT</td>\n",
       "      <td>International Equity Funds</td>\n",
       "    </tr>\n",
       "    <tr>\n",
       "      <th>499836</th>\n",
       "      <td>BRXX-373</td>\n",
       "      <td>WASHINGTON</td>\n",
       "      <td>Inter-dealer broker</td>\n",
       "      <td>World Allocation</td>\n",
       "      <td>N</td>\n",
       "      <td>N</td>\n",
       "      <td>N</td>\n",
       "      <td>0.0</td>\n",
       "      <td>0.00</td>\n",
       "      <td>DC,DC</td>\n",
       "      <td>Allocation Funds</td>\n",
       "    </tr>\n",
       "    <tr>\n",
       "      <th>507774</th>\n",
       "      <td>BRXX-84</td>\n",
       "      <td>BEL AIR</td>\n",
       "      <td>Inter-dealer broker</td>\n",
       "      <td>World Bond</td>\n",
       "      <td>Y</td>\n",
       "      <td>N</td>\n",
       "      <td>N</td>\n",
       "      <td>0.0</td>\n",
       "      <td>720.00</td>\n",
       "      <td>,MD</td>\n",
       "      <td>Taxable Bond Funds</td>\n",
       "    </tr>\n",
       "    <tr>\n",
       "      <th>511136</th>\n",
       "      <td>BRXX-84</td>\n",
       "      <td>BEL AIR</td>\n",
       "      <td>Inter-dealer broker</td>\n",
       "      <td>High Yield Bond</td>\n",
       "      <td>Y</td>\n",
       "      <td>N</td>\n",
       "      <td>N</td>\n",
       "      <td>0.0</td>\n",
       "      <td>908.55</td>\n",
       "      <td>,MD</td>\n",
       "      <td>Taxable Bond Funds</td>\n",
       "    </tr>\n",
       "    <tr>\n",
       "      <th>514028</th>\n",
       "      <td>BRXX-70</td>\n",
       "      <td>MOUNT PLEASANT</td>\n",
       "      <td>Inter-dealer broker</td>\n",
       "      <td>Allocation--15% to 30% Equity</td>\n",
       "      <td>N</td>\n",
       "      <td>N</td>\n",
       "      <td>N</td>\n",
       "      <td>0.0</td>\n",
       "      <td>125000.00</td>\n",
       "      <td>,WI</td>\n",
       "      <td>Allocation Funds</td>\n",
       "    </tr>\n",
       "    <tr>\n",
       "      <th>524621</th>\n",
       "      <td>BRXX-55</td>\n",
       "      <td>WEST HARTFORD</td>\n",
       "      <td>Inter-dealer broker</td>\n",
       "      <td>Commodities Broad Basket</td>\n",
       "      <td>Y</td>\n",
       "      <td>N</td>\n",
       "      <td>N</td>\n",
       "      <td>0.0</td>\n",
       "      <td>19118.30</td>\n",
       "      <td>,CT</td>\n",
       "      <td>Commodities</td>\n",
       "    </tr>\n",
       "    <tr>\n",
       "      <th>539082</th>\n",
       "      <td>BRXX-55</td>\n",
       "      <td>WEST HARTFORD</td>\n",
       "      <td>Inter-dealer broker</td>\n",
       "      <td>Target-Date 2020</td>\n",
       "      <td>Y</td>\n",
       "      <td>N</td>\n",
       "      <td>N</td>\n",
       "      <td>0.0</td>\n",
       "      <td>350.00</td>\n",
       "      <td>,CT</td>\n",
       "      <td>Allocation Funds</td>\n",
       "    </tr>\n",
       "    <tr>\n",
       "      <th>542073</th>\n",
       "      <td>BRXX-55</td>\n",
       "      <td>WEST HARTFORD</td>\n",
       "      <td>Inter-dealer broker</td>\n",
       "      <td>Target-Date 2035</td>\n",
       "      <td>Y</td>\n",
       "      <td>N</td>\n",
       "      <td>N</td>\n",
       "      <td>0.0</td>\n",
       "      <td>788.06</td>\n",
       "      <td>,CT</td>\n",
       "      <td>Allocation Funds</td>\n",
       "    </tr>\n",
       "    <tr>\n",
       "      <th>547874</th>\n",
       "      <td>BRXX-312</td>\n",
       "      <td>BARRE</td>\n",
       "      <td>Inter-dealer broker</td>\n",
       "      <td>Short-Term Bond</td>\n",
       "      <td>N</td>\n",
       "      <td>N</td>\n",
       "      <td>N</td>\n",
       "      <td>0.0</td>\n",
       "      <td>201.03</td>\n",
       "      <td>,VT</td>\n",
       "      <td>Taxable Bond Funds</td>\n",
       "    </tr>\n",
       "    <tr>\n",
       "      <th>550406</th>\n",
       "      <td>BRXX-373</td>\n",
       "      <td>WASHINGTON</td>\n",
       "      <td>Inter-dealer broker</td>\n",
       "      <td>World Small/Mid Stock</td>\n",
       "      <td>N</td>\n",
       "      <td>N</td>\n",
       "      <td>N</td>\n",
       "      <td>0.0</td>\n",
       "      <td>1076.76</td>\n",
       "      <td>DC,DC</td>\n",
       "      <td>International Equity Funds</td>\n",
       "    </tr>\n",
       "    <tr>\n",
       "      <th>552729</th>\n",
       "      <td>BRXX-70</td>\n",
       "      <td>MOUNT PLEASANT</td>\n",
       "      <td>Inter-dealer broker</td>\n",
       "      <td>Bank Loan</td>\n",
       "      <td>N</td>\n",
       "      <td>N</td>\n",
       "      <td>N</td>\n",
       "      <td>0.0</td>\n",
       "      <td>0.00</td>\n",
       "      <td>,WI</td>\n",
       "      <td>Taxable Bond Funds</td>\n",
       "    </tr>\n",
       "    <tr>\n",
       "      <th>553656</th>\n",
       "      <td>BRXX-84</td>\n",
       "      <td>BEL AIR</td>\n",
       "      <td>Inter-dealer broker</td>\n",
       "      <td>Mid-Cap Blend</td>\n",
       "      <td>Y</td>\n",
       "      <td>N</td>\n",
       "      <td>N</td>\n",
       "      <td>0.0</td>\n",
       "      <td>0.00</td>\n",
       "      <td>,MD</td>\n",
       "      <td>U.S Equity Funds</td>\n",
       "    </tr>\n",
       "    <tr>\n",
       "      <th>576783</th>\n",
       "      <td>BRXX-55</td>\n",
       "      <td>WEST HARTFORD</td>\n",
       "      <td>Inter-dealer broker</td>\n",
       "      <td>World Large Stock</td>\n",
       "      <td>Y</td>\n",
       "      <td>N</td>\n",
       "      <td>N</td>\n",
       "      <td>0.0</td>\n",
       "      <td>3567.38</td>\n",
       "      <td>,CT</td>\n",
       "      <td>International Equity Funds</td>\n",
       "    </tr>\n",
       "    <tr>\n",
       "      <th>600361</th>\n",
       "      <td>BRXX-373</td>\n",
       "      <td>WASHINGTON</td>\n",
       "      <td>Inter-dealer broker</td>\n",
       "      <td>Diversified Emerging Mkts</td>\n",
       "      <td>N</td>\n",
       "      <td>N</td>\n",
       "      <td>N</td>\n",
       "      <td>0.0</td>\n",
       "      <td>576.66</td>\n",
       "      <td>DC,DC</td>\n",
       "      <td>International Equity Funds</td>\n",
       "    </tr>\n",
       "    <tr>\n",
       "      <th>625297</th>\n",
       "      <td>BRXX-84</td>\n",
       "      <td>BEL AIR</td>\n",
       "      <td>Inter-dealer broker</td>\n",
       "      <td>Intermediate-Term Bond</td>\n",
       "      <td>Y</td>\n",
       "      <td>N</td>\n",
       "      <td>N</td>\n",
       "      <td>0.0</td>\n",
       "      <td>1413.55</td>\n",
       "      <td>,MD</td>\n",
       "      <td>Taxable Bond Funds</td>\n",
       "    </tr>\n",
       "    <tr>\n",
       "      <th>625316</th>\n",
       "      <td>BRXX-84</td>\n",
       "      <td>BEL AIR</td>\n",
       "      <td>Inter-dealer broker</td>\n",
       "      <td>World Large Stock</td>\n",
       "      <td>Y</td>\n",
       "      <td>N</td>\n",
       "      <td>N</td>\n",
       "      <td>0.0</td>\n",
       "      <td>0.00</td>\n",
       "      <td>,MD</td>\n",
       "      <td>International Equity Funds</td>\n",
       "    </tr>\n",
       "    <tr>\n",
       "      <th>648832</th>\n",
       "      <td>BRXX-70</td>\n",
       "      <td>MOUNT PLEASANT</td>\n",
       "      <td>Inter-dealer broker</td>\n",
       "      <td>World Bond</td>\n",
       "      <td>N</td>\n",
       "      <td>N</td>\n",
       "      <td>N</td>\n",
       "      <td>0.0</td>\n",
       "      <td>250.00</td>\n",
       "      <td>,WI</td>\n",
       "      <td>Taxable Bond Funds</td>\n",
       "    </tr>\n",
       "  </tbody>\n",
       "</table>\n",
       "</div>"
      ],
      "text/plain": [
       "       broker_id            city          broker_type  \\\n",
       "4290     BRXX-84         BEL AIR  Inter-dealer broker   \n",
       "9304     BRXX-55   WEST HARTFORD  Inter-dealer broker   \n",
       "20477    BRXX-70  MOUNT PLEASANT  Inter-dealer broker   \n",
       "25986    BRXX-70  MOUNT PLEASANT  Inter-dealer broker   \n",
       "26244    BRXX-84         BEL AIR  Inter-dealer broker   \n",
       "50331    BRXX-84         BEL AIR  Inter-dealer broker   \n",
       "58527    BRXX-84         BEL AIR  Inter-dealer broker   \n",
       "64117    BRXX-80       KNOXVILLE  Inter-dealer broker   \n",
       "68941    BRXX-55   WEST HARTFORD  Inter-dealer broker   \n",
       "73940   BRXX-312           BARRE  Inter-dealer broker   \n",
       "84496    BRXX-70  MOUNT PLEASANT  Inter-dealer broker   \n",
       "97231   BRXX-130      BURLINGAME  Inter-dealer broker   \n",
       "99999   BRXX-130      BURLINGAME  Inter-dealer broker   \n",
       "104636  BRXX-130      BURLINGAME  Inter-dealer broker   \n",
       "105020   BRXX-80       KNOXVILLE  Inter-dealer broker   \n",
       "109324  BRXX-312           BARRE  Inter-dealer broker   \n",
       "122302   BRXX-70  MOUNT PLEASANT  Inter-dealer broker   \n",
       "161873   BRXX-80       KNOXVILLE  Inter-dealer broker   \n",
       "165978   BRXX-70  MOUNT PLEASANT  Inter-dealer broker   \n",
       "168087   BRXX-80       KNOXVILLE  Inter-dealer broker   \n",
       "168090   BRXX-80       KNOXVILLE  Inter-dealer broker   \n",
       "188332   BRXX-80       KNOXVILLE  Inter-dealer broker   \n",
       "197359   BRXX-55   WEST HARTFORD  Inter-dealer broker   \n",
       "215953   BRXX-80       KNOXVILLE  Inter-dealer broker   \n",
       "215964   BRXX-80       KNOXVILLE  Inter-dealer broker   \n",
       "216873  BRXX-373      WASHINGTON  Inter-dealer broker   \n",
       "220462   BRXX-70  MOUNT PLEASANT  Inter-dealer broker   \n",
       "257010   BRXX-80       KNOXVILLE  Inter-dealer broker   \n",
       "278311   BRXX-70  MOUNT PLEASANT  Inter-dealer broker   \n",
       "280007   BRXX-55   WEST HARTFORD  Inter-dealer broker   \n",
       "281930   BRXX-70  MOUNT PLEASANT  Inter-dealer broker   \n",
       "316606  BRXX-373      WASHINGTON  Inter-dealer broker   \n",
       "352753   BRXX-55   WEST HARTFORD  Inter-dealer broker   \n",
       "371146  BRXX-373      WASHINGTON  Inter-dealer broker   \n",
       "417631   BRXX-55   WEST HARTFORD  Inter-dealer broker   \n",
       "458441  BRXX-312           BARRE  Inter-dealer broker   \n",
       "466084   BRXX-80       KNOXVILLE  Inter-dealer broker   \n",
       "469237  BRXX-130      BURLINGAME  Inter-dealer broker   \n",
       "484050   BRXX-55   WEST HARTFORD  Inter-dealer broker   \n",
       "485867   BRXX-84         BEL AIR  Inter-dealer broker   \n",
       "488099   BRXX-55   WEST HARTFORD  Inter-dealer broker   \n",
       "489207  BRXX-312           BARRE  Inter-dealer broker   \n",
       "499836  BRXX-373      WASHINGTON  Inter-dealer broker   \n",
       "507774   BRXX-84         BEL AIR  Inter-dealer broker   \n",
       "511136   BRXX-84         BEL AIR  Inter-dealer broker   \n",
       "514028   BRXX-70  MOUNT PLEASANT  Inter-dealer broker   \n",
       "524621   BRXX-55   WEST HARTFORD  Inter-dealer broker   \n",
       "539082   BRXX-55   WEST HARTFORD  Inter-dealer broker   \n",
       "542073   BRXX-55   WEST HARTFORD  Inter-dealer broker   \n",
       "547874  BRXX-312           BARRE  Inter-dealer broker   \n",
       "550406  BRXX-373      WASHINGTON  Inter-dealer broker   \n",
       "552729   BRXX-70  MOUNT PLEASANT  Inter-dealer broker   \n",
       "553656   BRXX-84         BEL AIR  Inter-dealer broker   \n",
       "576783   BRXX-55   WEST HARTFORD  Inter-dealer broker   \n",
       "600361  BRXX-373      WASHINGTON  Inter-dealer broker   \n",
       "625297   BRXX-84         BEL AIR  Inter-dealer broker   \n",
       "625316   BRXX-84         BEL AIR  Inter-dealer broker   \n",
       "648832   BRXX-70  MOUNT PLEASANT  Inter-dealer broker   \n",
       "\n",
       "                        fund_category email_opened webex_meet sales_call  \\\n",
       "4290                      Large Value            Y          N          N   \n",
       "9304                      Large Value            Y          N          N   \n",
       "20477                    Europe Stock            N          N          N   \n",
       "25986                    Large Growth            N          N          N   \n",
       "26244                    Large Growth            Y          N          N   \n",
       "50331                Target-Date 2050            Y          N          N   \n",
       "58527            Foreign Large Growth            Y          N          N   \n",
       "64117                  Mid-Cap Growth            N          N          N   \n",
       "68941                 Short-Term Bond            Y          N          N   \n",
       "73940          Equity Precious Metals            N          N          N   \n",
       "84496            Foreign Large Growth            N          N          N   \n",
       "97231                 Ultrashort Bond            N          N          N   \n",
       "99999   Allocation--15% to 30% Equity            N          N          N   \n",
       "104636            Nontraditional Bond            N          N          N   \n",
       "105020                      Bank Loan            N          N          N   \n",
       "109324                  Mid-Cap Blend            N          N          N   \n",
       "122302  Allocation--50% to 70% Equity            N          N          N   \n",
       "161873          World Small/Mid Stock            N          N          N   \n",
       "165978                    Large Blend            N          N          N   \n",
       "168087  Allocation--70% to 85% Equity            N          N          N   \n",
       "168090                High Yield Muni            N          N          N   \n",
       "188332              Long-Short Credit            N          N          N   \n",
       "197359               Multisector Bond            Y          N          N   \n",
       "215953                   Large Growth            N          N          N   \n",
       "215964                Short-Term Bond            N          N          N   \n",
       "216873                     World Bond            N          N          N   \n",
       "220462                    Small Value            N          N          N   \n",
       "257010  Allocation--30% to 50% Equity            N          N          N   \n",
       "278311      Diversified Emerging Mkts            N          N          N   \n",
       "280007            Foreign Large Blend            Y          N          N   \n",
       "281930                Managed Futures            N          N          N   \n",
       "316606                    Large Value            N          N          N   \n",
       "352753        Foreign Small/Mid Blend            Y          N          N   \n",
       "371146                Managed Futures            N          N          N   \n",
       "417631           Foreign Large Growth            Y          N          N   \n",
       "458441                   Large Growth            N          N          N   \n",
       "466084  Allocation--50% to 70% Equity            N          N          N   \n",
       "469237                Short-Term Bond            N          N          N   \n",
       "484050               Target-Date 2030            Y          N          N   \n",
       "485867          World Small/Mid Stock            Y          N          N   \n",
       "488099          World Small/Mid Stock            Y          N          N   \n",
       "489207          World Small/Mid Stock            N          N          N   \n",
       "499836               World Allocation            N          N          N   \n",
       "507774                     World Bond            Y          N          N   \n",
       "511136                High Yield Bond            Y          N          N   \n",
       "514028  Allocation--15% to 30% Equity            N          N          N   \n",
       "524621       Commodities Broad Basket            Y          N          N   \n",
       "539082               Target-Date 2020            Y          N          N   \n",
       "542073               Target-Date 2035            Y          N          N   \n",
       "547874                Short-Term Bond            N          N          N   \n",
       "550406          World Small/Mid Stock            N          N          N   \n",
       "552729                      Bank Loan            N          N          N   \n",
       "553656                  Mid-Cap Blend            Y          N          N   \n",
       "576783              World Large Stock            Y          N          N   \n",
       "600361      Diversified Emerging Mkts            N          N          N   \n",
       "625297         Intermediate-Term Bond            Y          N          N   \n",
       "625316              World Large Stock            Y          N          N   \n",
       "648832                     World Bond            N          N          N   \n",
       "\n",
       "        firm_sales  global_sales  state                   fund_type  \n",
       "4290           0.0       4535.00    ,MD            U.S Equity Funds  \n",
       "9304           0.0       3646.28    ,CT            U.S Equity Funds  \n",
       "20477          0.0          0.00    ,WI  International Equity Funds  \n",
       "25986          0.0        150.69    ,WI            U.S Equity Funds  \n",
       "26244          0.0      18264.18    ,MD            U.S Equity Funds  \n",
       "50331          0.0       1400.00    ,MD            Allocation Funds  \n",
       "58527          0.0       1813.55    ,MD  International Equity Funds  \n",
       "64117          0.0        600.00  TN,TN            U.S Equity Funds  \n",
       "68941          0.0        686.83    ,CT          Taxable Bond Funds  \n",
       "73940          0.0        637.50    ,VT         Sector Equity Funds  \n",
       "84496          0.0       1322.00    ,WI  International Equity Funds  \n",
       "97231          0.0          0.00    ,CA          Taxable Bond Funds  \n",
       "99999          0.0          0.00    ,CA            Allocation Funds  \n",
       "104636         0.0          0.00    ,CA          Taxable Bond Funds  \n",
       "105020         0.0          0.00  TN,TN          Taxable Bond Funds  \n",
       "109324         0.0       1285.53    ,VT            U.S Equity Funds  \n",
       "122302         0.0        641.41    ,WI            Allocation Funds  \n",
       "161873         0.0        244.78  TN,TN  International Equity Funds  \n",
       "165978         0.0      26109.69    ,WI            U.S Equity Funds  \n",
       "168087         0.0         75.00  TN,TN            Allocation Funds  \n",
       "168090         0.0        345.98  TN,TN        Municipal Bond Funds  \n",
       "188332         0.0          0.00  TN,TN           Alternative Funds  \n",
       "197359         0.0     101516.33    ,CT          Taxable Bond Funds  \n",
       "215953         0.0      28803.07  TN,TN            U.S Equity Funds  \n",
       "215964         0.0        325.00  TN,TN          Taxable Bond Funds  \n",
       "216873         0.0          0.00  DC,DC          Taxable Bond Funds  \n",
       "220462         0.0          0.00    ,WI            U.S Equity Funds  \n",
       "257010         0.0      25118.00  TN,TN            Allocation Funds  \n",
       "278311         0.0        640.00    ,WI  International Equity Funds  \n",
       "280007         0.0       1004.32    ,CT  International Equity Funds  \n",
       "281930         0.0          0.00    ,WI           Alternative Funds  \n",
       "316606         0.0       8500.00  DC,DC            U.S Equity Funds  \n",
       "352753         0.0      17088.24    ,CT  International Equity Funds  \n",
       "371146         0.0          0.00  DC,DC           Alternative Funds  \n",
       "417631         0.0       2540.22    ,CT  International Equity Funds  \n",
       "458441         0.0       2399.15    ,VT            U.S Equity Funds  \n",
       "466084         0.0       4616.81  TN,TN            Allocation Funds  \n",
       "469237         0.0       2000.00    ,CA          Taxable Bond Funds  \n",
       "484050         0.0       4297.62    ,CT            Allocation Funds  \n",
       "485867         0.0       1078.55    ,MD  International Equity Funds  \n",
       "488099         0.0       1125.24    ,CT  International Equity Funds  \n",
       "489207         0.0       1907.32    ,VT  International Equity Funds  \n",
       "499836         0.0          0.00  DC,DC            Allocation Funds  \n",
       "507774         0.0        720.00    ,MD          Taxable Bond Funds  \n",
       "511136         0.0        908.55    ,MD          Taxable Bond Funds  \n",
       "514028         0.0     125000.00    ,WI            Allocation Funds  \n",
       "524621         0.0      19118.30    ,CT                 Commodities  \n",
       "539082         0.0        350.00    ,CT            Allocation Funds  \n",
       "542073         0.0        788.06    ,CT            Allocation Funds  \n",
       "547874         0.0        201.03    ,VT          Taxable Bond Funds  \n",
       "550406         0.0       1076.76  DC,DC  International Equity Funds  \n",
       "552729         0.0          0.00    ,WI          Taxable Bond Funds  \n",
       "553656         0.0          0.00    ,MD            U.S Equity Funds  \n",
       "576783         0.0       3567.38    ,CT  International Equity Funds  \n",
       "600361         0.0        576.66  DC,DC  International Equity Funds  \n",
       "625297         0.0       1413.55    ,MD          Taxable Bond Funds  \n",
       "625316         0.0          0.00    ,MD  International Equity Funds  \n",
       "648832         0.0        250.00    ,WI          Taxable Bond Funds  "
      ]
     },
     "execution_count": 30,
     "metadata": {},
     "output_type": "execute_result"
    }
   ],
   "source": [
    "#after semgenting into city and state.. we observed state is 2 character word.. lets see if its true or not\n",
    "data[data[\"state\"].str.len() > 2]"
   ]
  },
  {
   "cell_type": "code",
   "execution_count": 31,
   "metadata": {},
   "outputs": [],
   "source": [
    "#to remove extra column and extra space\n",
    "data['state'] = data['state'].str.replace(',', '')\n",
    "data['state'] = data['state'].str.replace(' ', '') "
   ]
  },
  {
   "cell_type": "code",
   "execution_count": 32,
   "metadata": {},
   "outputs": [
    {
     "data": {
      "text/html": [
       "<div>\n",
       "<style scoped>\n",
       "    .dataframe tbody tr th:only-of-type {\n",
       "        vertical-align: middle;\n",
       "    }\n",
       "\n",
       "    .dataframe tbody tr th {\n",
       "        vertical-align: top;\n",
       "    }\n",
       "\n",
       "    .dataframe thead th {\n",
       "        text-align: right;\n",
       "    }\n",
       "</style>\n",
       "<table border=\"1\" class=\"dataframe\">\n",
       "  <thead>\n",
       "    <tr style=\"text-align: right;\">\n",
       "      <th></th>\n",
       "      <th>broker_id</th>\n",
       "      <th>city</th>\n",
       "      <th>broker_type</th>\n",
       "      <th>fund_category</th>\n",
       "      <th>email_opened</th>\n",
       "      <th>webex_meet</th>\n",
       "      <th>sales_call</th>\n",
       "      <th>firm_sales</th>\n",
       "      <th>global_sales</th>\n",
       "      <th>state</th>\n",
       "      <th>fund_type</th>\n",
       "    </tr>\n",
       "  </thead>\n",
       "  <tbody>\n",
       "    <tr>\n",
       "      <th>64117</th>\n",
       "      <td>BRXX-80</td>\n",
       "      <td>KNOXVILLE</td>\n",
       "      <td>Inter-dealer broker</td>\n",
       "      <td>Mid-Cap Growth</td>\n",
       "      <td>N</td>\n",
       "      <td>N</td>\n",
       "      <td>N</td>\n",
       "      <td>0.0</td>\n",
       "      <td>600.00</td>\n",
       "      <td>TNTN</td>\n",
       "      <td>U.S Equity Funds</td>\n",
       "    </tr>\n",
       "    <tr>\n",
       "      <th>105020</th>\n",
       "      <td>BRXX-80</td>\n",
       "      <td>KNOXVILLE</td>\n",
       "      <td>Inter-dealer broker</td>\n",
       "      <td>Bank Loan</td>\n",
       "      <td>N</td>\n",
       "      <td>N</td>\n",
       "      <td>N</td>\n",
       "      <td>0.0</td>\n",
       "      <td>0.00</td>\n",
       "      <td>TNTN</td>\n",
       "      <td>Taxable Bond Funds</td>\n",
       "    </tr>\n",
       "    <tr>\n",
       "      <th>161873</th>\n",
       "      <td>BRXX-80</td>\n",
       "      <td>KNOXVILLE</td>\n",
       "      <td>Inter-dealer broker</td>\n",
       "      <td>World Small/Mid Stock</td>\n",
       "      <td>N</td>\n",
       "      <td>N</td>\n",
       "      <td>N</td>\n",
       "      <td>0.0</td>\n",
       "      <td>244.78</td>\n",
       "      <td>TNTN</td>\n",
       "      <td>International Equity Funds</td>\n",
       "    </tr>\n",
       "    <tr>\n",
       "      <th>168087</th>\n",
       "      <td>BRXX-80</td>\n",
       "      <td>KNOXVILLE</td>\n",
       "      <td>Inter-dealer broker</td>\n",
       "      <td>Allocation--70% to 85% Equity</td>\n",
       "      <td>N</td>\n",
       "      <td>N</td>\n",
       "      <td>N</td>\n",
       "      <td>0.0</td>\n",
       "      <td>75.00</td>\n",
       "      <td>TNTN</td>\n",
       "      <td>Allocation Funds</td>\n",
       "    </tr>\n",
       "    <tr>\n",
       "      <th>168090</th>\n",
       "      <td>BRXX-80</td>\n",
       "      <td>KNOXVILLE</td>\n",
       "      <td>Inter-dealer broker</td>\n",
       "      <td>High Yield Muni</td>\n",
       "      <td>N</td>\n",
       "      <td>N</td>\n",
       "      <td>N</td>\n",
       "      <td>0.0</td>\n",
       "      <td>345.98</td>\n",
       "      <td>TNTN</td>\n",
       "      <td>Municipal Bond Funds</td>\n",
       "    </tr>\n",
       "    <tr>\n",
       "      <th>188332</th>\n",
       "      <td>BRXX-80</td>\n",
       "      <td>KNOXVILLE</td>\n",
       "      <td>Inter-dealer broker</td>\n",
       "      <td>Long-Short Credit</td>\n",
       "      <td>N</td>\n",
       "      <td>N</td>\n",
       "      <td>N</td>\n",
       "      <td>0.0</td>\n",
       "      <td>0.00</td>\n",
       "      <td>TNTN</td>\n",
       "      <td>Alternative Funds</td>\n",
       "    </tr>\n",
       "    <tr>\n",
       "      <th>215953</th>\n",
       "      <td>BRXX-80</td>\n",
       "      <td>KNOXVILLE</td>\n",
       "      <td>Inter-dealer broker</td>\n",
       "      <td>Large Growth</td>\n",
       "      <td>N</td>\n",
       "      <td>N</td>\n",
       "      <td>N</td>\n",
       "      <td>0.0</td>\n",
       "      <td>28803.07</td>\n",
       "      <td>TNTN</td>\n",
       "      <td>U.S Equity Funds</td>\n",
       "    </tr>\n",
       "    <tr>\n",
       "      <th>215964</th>\n",
       "      <td>BRXX-80</td>\n",
       "      <td>KNOXVILLE</td>\n",
       "      <td>Inter-dealer broker</td>\n",
       "      <td>Short-Term Bond</td>\n",
       "      <td>N</td>\n",
       "      <td>N</td>\n",
       "      <td>N</td>\n",
       "      <td>0.0</td>\n",
       "      <td>325.00</td>\n",
       "      <td>TNTN</td>\n",
       "      <td>Taxable Bond Funds</td>\n",
       "    </tr>\n",
       "    <tr>\n",
       "      <th>216873</th>\n",
       "      <td>BRXX-373</td>\n",
       "      <td>WASHINGTON</td>\n",
       "      <td>Inter-dealer broker</td>\n",
       "      <td>World Bond</td>\n",
       "      <td>N</td>\n",
       "      <td>N</td>\n",
       "      <td>N</td>\n",
       "      <td>0.0</td>\n",
       "      <td>0.00</td>\n",
       "      <td>DCDC</td>\n",
       "      <td>Taxable Bond Funds</td>\n",
       "    </tr>\n",
       "    <tr>\n",
       "      <th>257010</th>\n",
       "      <td>BRXX-80</td>\n",
       "      <td>KNOXVILLE</td>\n",
       "      <td>Inter-dealer broker</td>\n",
       "      <td>Allocation--30% to 50% Equity</td>\n",
       "      <td>N</td>\n",
       "      <td>N</td>\n",
       "      <td>N</td>\n",
       "      <td>0.0</td>\n",
       "      <td>25118.00</td>\n",
       "      <td>TNTN</td>\n",
       "      <td>Allocation Funds</td>\n",
       "    </tr>\n",
       "    <tr>\n",
       "      <th>316606</th>\n",
       "      <td>BRXX-373</td>\n",
       "      <td>WASHINGTON</td>\n",
       "      <td>Inter-dealer broker</td>\n",
       "      <td>Large Value</td>\n",
       "      <td>N</td>\n",
       "      <td>N</td>\n",
       "      <td>N</td>\n",
       "      <td>0.0</td>\n",
       "      <td>8500.00</td>\n",
       "      <td>DCDC</td>\n",
       "      <td>U.S Equity Funds</td>\n",
       "    </tr>\n",
       "    <tr>\n",
       "      <th>371146</th>\n",
       "      <td>BRXX-373</td>\n",
       "      <td>WASHINGTON</td>\n",
       "      <td>Inter-dealer broker</td>\n",
       "      <td>Managed Futures</td>\n",
       "      <td>N</td>\n",
       "      <td>N</td>\n",
       "      <td>N</td>\n",
       "      <td>0.0</td>\n",
       "      <td>0.00</td>\n",
       "      <td>DCDC</td>\n",
       "      <td>Alternative Funds</td>\n",
       "    </tr>\n",
       "    <tr>\n",
       "      <th>466084</th>\n",
       "      <td>BRXX-80</td>\n",
       "      <td>KNOXVILLE</td>\n",
       "      <td>Inter-dealer broker</td>\n",
       "      <td>Allocation--50% to 70% Equity</td>\n",
       "      <td>N</td>\n",
       "      <td>N</td>\n",
       "      <td>N</td>\n",
       "      <td>0.0</td>\n",
       "      <td>4616.81</td>\n",
       "      <td>TNTN</td>\n",
       "      <td>Allocation Funds</td>\n",
       "    </tr>\n",
       "    <tr>\n",
       "      <th>499836</th>\n",
       "      <td>BRXX-373</td>\n",
       "      <td>WASHINGTON</td>\n",
       "      <td>Inter-dealer broker</td>\n",
       "      <td>World Allocation</td>\n",
       "      <td>N</td>\n",
       "      <td>N</td>\n",
       "      <td>N</td>\n",
       "      <td>0.0</td>\n",
       "      <td>0.00</td>\n",
       "      <td>DCDC</td>\n",
       "      <td>Allocation Funds</td>\n",
       "    </tr>\n",
       "    <tr>\n",
       "      <th>550406</th>\n",
       "      <td>BRXX-373</td>\n",
       "      <td>WASHINGTON</td>\n",
       "      <td>Inter-dealer broker</td>\n",
       "      <td>World Small/Mid Stock</td>\n",
       "      <td>N</td>\n",
       "      <td>N</td>\n",
       "      <td>N</td>\n",
       "      <td>0.0</td>\n",
       "      <td>1076.76</td>\n",
       "      <td>DCDC</td>\n",
       "      <td>International Equity Funds</td>\n",
       "    </tr>\n",
       "    <tr>\n",
       "      <th>600361</th>\n",
       "      <td>BRXX-373</td>\n",
       "      <td>WASHINGTON</td>\n",
       "      <td>Inter-dealer broker</td>\n",
       "      <td>Diversified Emerging Mkts</td>\n",
       "      <td>N</td>\n",
       "      <td>N</td>\n",
       "      <td>N</td>\n",
       "      <td>0.0</td>\n",
       "      <td>576.66</td>\n",
       "      <td>DCDC</td>\n",
       "      <td>International Equity Funds</td>\n",
       "    </tr>\n",
       "  </tbody>\n",
       "</table>\n",
       "</div>"
      ],
      "text/plain": [
       "       broker_id        city          broker_type  \\\n",
       "64117    BRXX-80   KNOXVILLE  Inter-dealer broker   \n",
       "105020   BRXX-80   KNOXVILLE  Inter-dealer broker   \n",
       "161873   BRXX-80   KNOXVILLE  Inter-dealer broker   \n",
       "168087   BRXX-80   KNOXVILLE  Inter-dealer broker   \n",
       "168090   BRXX-80   KNOXVILLE  Inter-dealer broker   \n",
       "188332   BRXX-80   KNOXVILLE  Inter-dealer broker   \n",
       "215953   BRXX-80   KNOXVILLE  Inter-dealer broker   \n",
       "215964   BRXX-80   KNOXVILLE  Inter-dealer broker   \n",
       "216873  BRXX-373  WASHINGTON  Inter-dealer broker   \n",
       "257010   BRXX-80   KNOXVILLE  Inter-dealer broker   \n",
       "316606  BRXX-373  WASHINGTON  Inter-dealer broker   \n",
       "371146  BRXX-373  WASHINGTON  Inter-dealer broker   \n",
       "466084   BRXX-80   KNOXVILLE  Inter-dealer broker   \n",
       "499836  BRXX-373  WASHINGTON  Inter-dealer broker   \n",
       "550406  BRXX-373  WASHINGTON  Inter-dealer broker   \n",
       "600361  BRXX-373  WASHINGTON  Inter-dealer broker   \n",
       "\n",
       "                        fund_category email_opened webex_meet sales_call  \\\n",
       "64117                  Mid-Cap Growth            N          N          N   \n",
       "105020                      Bank Loan            N          N          N   \n",
       "161873          World Small/Mid Stock            N          N          N   \n",
       "168087  Allocation--70% to 85% Equity            N          N          N   \n",
       "168090                High Yield Muni            N          N          N   \n",
       "188332              Long-Short Credit            N          N          N   \n",
       "215953                   Large Growth            N          N          N   \n",
       "215964                Short-Term Bond            N          N          N   \n",
       "216873                     World Bond            N          N          N   \n",
       "257010  Allocation--30% to 50% Equity            N          N          N   \n",
       "316606                    Large Value            N          N          N   \n",
       "371146                Managed Futures            N          N          N   \n",
       "466084  Allocation--50% to 70% Equity            N          N          N   \n",
       "499836               World Allocation            N          N          N   \n",
       "550406          World Small/Mid Stock            N          N          N   \n",
       "600361      Diversified Emerging Mkts            N          N          N   \n",
       "\n",
       "        firm_sales  global_sales state                   fund_type  \n",
       "64117          0.0        600.00  TNTN            U.S Equity Funds  \n",
       "105020         0.0          0.00  TNTN          Taxable Bond Funds  \n",
       "161873         0.0        244.78  TNTN  International Equity Funds  \n",
       "168087         0.0         75.00  TNTN            Allocation Funds  \n",
       "168090         0.0        345.98  TNTN        Municipal Bond Funds  \n",
       "188332         0.0          0.00  TNTN           Alternative Funds  \n",
       "215953         0.0      28803.07  TNTN            U.S Equity Funds  \n",
       "215964         0.0        325.00  TNTN          Taxable Bond Funds  \n",
       "216873         0.0          0.00  DCDC          Taxable Bond Funds  \n",
       "257010         0.0      25118.00  TNTN            Allocation Funds  \n",
       "316606         0.0       8500.00  DCDC            U.S Equity Funds  \n",
       "371146         0.0          0.00  DCDC           Alternative Funds  \n",
       "466084         0.0       4616.81  TNTN            Allocation Funds  \n",
       "499836         0.0          0.00  DCDC            Allocation Funds  \n",
       "550406         0.0       1076.76  DCDC  International Equity Funds  \n",
       "600361         0.0        576.66  DCDC  International Equity Funds  "
      ]
     },
     "execution_count": 32,
     "metadata": {},
     "output_type": "execute_result"
    }
   ],
   "source": [
    "data[data[\"state\"].str.len() > 2] #verified again"
   ]
  },
  {
   "cell_type": "code",
   "execution_count": 33,
   "metadata": {},
   "outputs": [],
   "source": [
    "#data correction\n",
    "data['state'] = data['state'].str.replace('DCDC', 'DC')\n",
    "data['state'] = data['state'].str.replace('TNTN', 'TN')\n",
    "data['state'] = data['state'].str.replace('CACA', 'CA')\n",
    "data['state'] = data['state'].str.replace('NYNY', 'NY')\n",
    "data['state'] = data['state'].str.replace('TXTX', 'TX')"
   ]
  },
  {
   "cell_type": "code",
   "execution_count": 34,
   "metadata": {},
   "outputs": [
    {
     "data": {
      "text/html": [
       "<div>\n",
       "<style scoped>\n",
       "    .dataframe tbody tr th:only-of-type {\n",
       "        vertical-align: middle;\n",
       "    }\n",
       "\n",
       "    .dataframe tbody tr th {\n",
       "        vertical-align: top;\n",
       "    }\n",
       "\n",
       "    .dataframe thead th {\n",
       "        text-align: right;\n",
       "    }\n",
       "</style>\n",
       "<table border=\"1\" class=\"dataframe\">\n",
       "  <thead>\n",
       "    <tr style=\"text-align: right;\">\n",
       "      <th></th>\n",
       "      <th>broker_id</th>\n",
       "      <th>city</th>\n",
       "      <th>broker_type</th>\n",
       "      <th>fund_category</th>\n",
       "      <th>email_opened</th>\n",
       "      <th>webex_meet</th>\n",
       "      <th>sales_call</th>\n",
       "      <th>firm_sales</th>\n",
       "      <th>global_sales</th>\n",
       "      <th>state</th>\n",
       "      <th>fund_type</th>\n",
       "    </tr>\n",
       "  </thead>\n",
       "  <tbody>\n",
       "  </tbody>\n",
       "</table>\n",
       "</div>"
      ],
      "text/plain": [
       "Empty DataFrame\n",
       "Columns: [broker_id, city, broker_type, fund_category, email_opened, webex_meet, sales_call, firm_sales, global_sales, state, fund_type]\n",
       "Index: []"
      ]
     },
     "execution_count": 34,
     "metadata": {},
     "output_type": "execute_result"
    }
   ],
   "source": [
    "data[data[\"state\"].str.len() > 2] #check again make sure it returns 0 rows"
   ]
  },
  {
   "cell_type": "code",
   "execution_count": 35,
   "metadata": {},
   "outputs": [
    {
     "data": {
      "text/html": [
       "<div>\n",
       "<style scoped>\n",
       "    .dataframe tbody tr th:only-of-type {\n",
       "        vertical-align: middle;\n",
       "    }\n",
       "\n",
       "    .dataframe tbody tr th {\n",
       "        vertical-align: top;\n",
       "    }\n",
       "\n",
       "    .dataframe thead th {\n",
       "        text-align: right;\n",
       "    }\n",
       "</style>\n",
       "<table border=\"1\" class=\"dataframe\">\n",
       "  <thead>\n",
       "    <tr style=\"text-align: right;\">\n",
       "      <th></th>\n",
       "      <th>broker_id</th>\n",
       "      <th>city</th>\n",
       "      <th>broker_type</th>\n",
       "      <th>fund_category</th>\n",
       "      <th>email_opened</th>\n",
       "      <th>webex_meet</th>\n",
       "      <th>sales_call</th>\n",
       "      <th>firm_sales</th>\n",
       "      <th>global_sales</th>\n",
       "      <th>state</th>\n",
       "      <th>fund_type</th>\n",
       "    </tr>\n",
       "  </thead>\n",
       "  <tbody>\n",
       "    <tr>\n",
       "      <th>0</th>\n",
       "      <td>BRXX-1</td>\n",
       "      <td>PLANTATION</td>\n",
       "      <td>Inter-dealer broker</td>\n",
       "      <td>Emerging-Markets Local-Currency Bond</td>\n",
       "      <td>N</td>\n",
       "      <td>N</td>\n",
       "      <td>N</td>\n",
       "      <td>174.62</td>\n",
       "      <td>174.62</td>\n",
       "      <td>FL</td>\n",
       "      <td>Taxable Bond Funds</td>\n",
       "    </tr>\n",
       "    <tr>\n",
       "      <th>1</th>\n",
       "      <td>BRXX-1</td>\n",
       "      <td>BRANFORD</td>\n",
       "      <td>Inter-dealer broker</td>\n",
       "      <td>Utilities</td>\n",
       "      <td>N</td>\n",
       "      <td>N</td>\n",
       "      <td>N</td>\n",
       "      <td>0.00</td>\n",
       "      <td>0.00</td>\n",
       "      <td>CT</td>\n",
       "      <td>Sector Equity Funds</td>\n",
       "    </tr>\n",
       "    <tr>\n",
       "      <th>2</th>\n",
       "      <td>BRXX-1</td>\n",
       "      <td>JONESBORO</td>\n",
       "      <td>Inter-dealer broker</td>\n",
       "      <td>Intermediate Government</td>\n",
       "      <td>N</td>\n",
       "      <td>N</td>\n",
       "      <td>N</td>\n",
       "      <td>0.00</td>\n",
       "      <td>0.00</td>\n",
       "      <td>GA</td>\n",
       "      <td>Taxable Bond Funds</td>\n",
       "    </tr>\n",
       "    <tr>\n",
       "      <th>3</th>\n",
       "      <td>BRXX-2</td>\n",
       "      <td>VIENNA</td>\n",
       "      <td>Inter-dealer broker</td>\n",
       "      <td>Intermediate Government</td>\n",
       "      <td>Y</td>\n",
       "      <td>N</td>\n",
       "      <td>N</td>\n",
       "      <td>0.00</td>\n",
       "      <td>30709.00</td>\n",
       "      <td>VA</td>\n",
       "      <td>Taxable Bond Funds</td>\n",
       "    </tr>\n",
       "    <tr>\n",
       "      <th>4</th>\n",
       "      <td>BRXX-3</td>\n",
       "      <td>CHAGRIN FALLS</td>\n",
       "      <td>full-service broker</td>\n",
       "      <td>Target-Date 2050</td>\n",
       "      <td>Y</td>\n",
       "      <td>N</td>\n",
       "      <td>Y</td>\n",
       "      <td>0.00</td>\n",
       "      <td>0.00</td>\n",
       "      <td>OH</td>\n",
       "      <td>Allocation Funds</td>\n",
       "    </tr>\n",
       "  </tbody>\n",
       "</table>\n",
       "</div>"
      ],
      "text/plain": [
       "  broker_id           city          broker_type  \\\n",
       "0    BRXX-1     PLANTATION  Inter-dealer broker   \n",
       "1    BRXX-1       BRANFORD  Inter-dealer broker   \n",
       "2    BRXX-1      JONESBORO  Inter-dealer broker   \n",
       "3    BRXX-2         VIENNA  Inter-dealer broker   \n",
       "4    BRXX-3  CHAGRIN FALLS  full-service broker   \n",
       "\n",
       "                          fund_category email_opened webex_meet sales_call  \\\n",
       "0  Emerging-Markets Local-Currency Bond            N          N          N   \n",
       "1                             Utilities            N          N          N   \n",
       "2               Intermediate Government            N          N          N   \n",
       "3               Intermediate Government            Y          N          N   \n",
       "4                      Target-Date 2050            Y          N          Y   \n",
       "\n",
       "   firm_sales  global_sales state            fund_type  \n",
       "0      174.62        174.62    FL   Taxable Bond Funds  \n",
       "1        0.00          0.00    CT  Sector Equity Funds  \n",
       "2        0.00          0.00    GA   Taxable Bond Funds  \n",
       "3        0.00      30709.00    VA   Taxable Bond Funds  \n",
       "4        0.00          0.00    OH     Allocation Funds  "
      ]
     },
     "execution_count": 35,
     "metadata": {},
     "output_type": "execute_result"
    }
   ],
   "source": [
    "data.head()"
   ]
  },
  {
   "cell_type": "code",
   "execution_count": 36,
   "metadata": {},
   "outputs": [
    {
     "name": "stdout",
     "output_type": "stream",
     "text": [
      "+-------------+------------------+--------------+--------------+---------------+\n",
      "|  features   | feature_datatype | unique value | missing_valu | missing_value |\n",
      "|             |                  |              |      es      |      _%       |\n",
      "+-------------+------------------+--------------+--------------+---------------+\n",
      "|  broker_id  |      object      |     1178     |      0       |      0.0      |\n",
      "+-------------+------------------+--------------+--------------+---------------+\n",
      "|    city     |      object      |     7272     |      0       |      0.0      |\n",
      "+-------------+------------------+--------------+--------------+---------------+\n",
      "| broker_type |      object      |      2       |      0       |      0.0      |\n",
      "+-------------+------------------+--------------+--------------+---------------+\n",
      "| fund_catego |      object      |     103      |      0       |      0.0      |\n",
      "|     ry      |                  |              |              |               |\n",
      "+-------------+------------------+--------------+--------------+---------------+\n",
      "| email_opene |      object      |      2       |      0       |      0.0      |\n",
      "|      d      |                  |              |              |               |\n",
      "+-------------+------------------+--------------+--------------+---------------+\n",
      "| webex_meet  |      object      |      2       |      0       |      0.0      |\n",
      "+-------------+------------------+--------------+--------------+---------------+\n",
      "| sales_call  |      object      |      2       |      0       |      0.0      |\n",
      "+-------------+------------------+--------------+--------------+---------------+\n",
      "| firm_sales  |     float64      |    44958     |      0       |      0.0      |\n",
      "+-------------+------------------+--------------+--------------+---------------+\n",
      "| global_sale |     float64      |    360477    |      0       |      0.0      |\n",
      "|      s      |                  |              |              |               |\n",
      "+-------------+------------------+--------------+--------------+---------------+\n",
      "|    state    |      object      |      53      |      0       |      0.0      |\n",
      "+-------------+------------------+--------------+--------------+---------------+\n",
      "|  fund_type  |      object      |      8       |      0       |      0.0      |\n",
      "+-------------+------------------+--------------+--------------+---------------+\n"
     ]
    }
   ],
   "source": [
    "basic_check(data)"
   ]
  },
  {
   "cell_type": "markdown",
   "metadata": {},
   "source": [
    "# EDA\n",
    "### 1. Data Gathering\n",
    "### 2. Data Cleaning\n",
    "### 3. Observation\n",
    "### 4. Analysis (Graphs - Uni-Variate, Bi-Variate)\n",
    "### 5. Insights"
   ]
  },
  {
   "cell_type": "markdown",
   "metadata": {},
   "source": [
    "## Observations"
   ]
  },
  {
   "cell_type": "code",
   "execution_count": 37,
   "metadata": {},
   "outputs": [
    {
     "name": "stdout",
     "output_type": "stream",
     "text": [
      "Total numbers of Brokers -  1178\n",
      "Total numbers of Cities -  7272\n",
      "Total numbers of States -  53\n",
      "Total numbers of fund category -  103\n",
      "Total numbers of fund types (from morning star) -  8\n"
     ]
    }
   ],
   "source": [
    "#total number of brokers\n",
    "print(\"Total numbers of Brokers - \", data['broker_id'].nunique())\n",
    "#total number of cities\n",
    "print(\"Total numbers of Cities - \", data['city'].nunique())\n",
    "#total number of states\n",
    "print(\"Total numbers of States - \", data['state'].nunique())\n",
    "#total number of fund category\n",
    "print(\"Total numbers of fund category - \", data['fund_category'].nunique())\n",
    "#total number of fund types\n",
    "print(\"Total numbers of fund types (from morning star) - \", data['fund_type'].nunique())"
   ]
  },
  {
   "cell_type": "markdown",
   "metadata": {},
   "source": [
    "## Analysis"
   ]
  },
  {
   "cell_type": "code",
   "execution_count": 38,
   "metadata": {},
   "outputs": [
    {
     "data": {
      "application/javascript": [
       "\n",
       "        if (window._pyforest_update_imports_cell) { window._pyforest_update_imports_cell('import pandas as pd\\nimport seaborn as sns'); }\n",
       "    "
      ],
      "text/plain": [
       "<IPython.core.display.Javascript object>"
      ]
     },
     "metadata": {},
     "output_type": "display_data"
    },
    {
     "data": {
      "application/javascript": [
       "\n",
       "        if (window._pyforest_update_imports_cell) { window._pyforest_update_imports_cell('import pandas as pd\\nimport seaborn as sns\\nimport matplotlib.pyplot as plt'); }\n",
       "    "
      ],
      "text/plain": [
       "<IPython.core.display.Javascript object>"
      ]
     },
     "metadata": {},
     "output_type": "display_data"
    },
    {
     "data": {
      "application/javascript": [
       "\n",
       "        if (window._pyforest_update_imports_cell) { window._pyforest_update_imports_cell('import pandas as pd\\nimport seaborn as sns\\nimport matplotlib.pyplot as plt'); }\n",
       "    "
      ],
      "text/plain": [
       "<IPython.core.display.Javascript object>"
      ]
     },
     "metadata": {},
     "output_type": "display_data"
    },
    {
     "data": {
      "text/plain": [
       "<matplotlib.axes._subplots.AxesSubplot at 0x2244375ae48>"
      ]
     },
     "execution_count": 38,
     "metadata": {},
     "output_type": "execute_result"
    },
    {
     "data": {
      "image/png": "[encoded data removed]",
      "text/plain": [
       "<Figure size 216x216 with 1 Axes>"
      ]
     },
     "metadata": {},
     "output_type": "display_data"
    }
   ],
   "source": [
    "sns.set_style('whitegrid')\n",
    "plt.figure(figsize=(3,3))\n",
    "sns.countplot(x='email_opened',data=data)\n",
    "#how many transactions happened with email opened"
   ]
  },
  {
   "cell_type": "code",
   "execution_count": 39,
   "metadata": {},
   "outputs": [
    {
     "data": {
      "application/javascript": [
       "\n",
       "        if (window._pyforest_update_imports_cell) { window._pyforest_update_imports_cell('import pandas as pd\\nimport seaborn as sns\\nimport matplotlib.pyplot as plt'); }\n",
       "    "
      ],
      "text/plain": [
       "<IPython.core.display.Javascript object>"
      ]
     },
     "metadata": {},
     "output_type": "display_data"
    },
    {
     "data": {
      "application/javascript": [
       "\n",
       "        if (window._pyforest_update_imports_cell) { window._pyforest_update_imports_cell('import pandas as pd\\nimport seaborn as sns\\nimport matplotlib.pyplot as plt'); }\n",
       "    "
      ],
      "text/plain": [
       "<IPython.core.display.Javascript object>"
      ]
     },
     "metadata": {},
     "output_type": "display_data"
    },
    {
     "data": {
      "application/javascript": [
       "\n",
       "        if (window._pyforest_update_imports_cell) { window._pyforest_update_imports_cell('import pandas as pd\\nimport seaborn as sns\\nimport matplotlib.pyplot as plt'); }\n",
       "    "
      ],
      "text/plain": [
       "<IPython.core.display.Javascript object>"
      ]
     },
     "metadata": {},
     "output_type": "display_data"
    },
    {
     "data": {
      "text/plain": [
       "<matplotlib.axes._subplots.AxesSubplot at 0x2244372ee48>"
      ]
     },
     "execution_count": 39,
     "metadata": {},
     "output_type": "execute_result"
    },
    {
     "data": {
      "image/png": "[encoded data removed]",
      "text/plain": [
       "<Figure size 216x216 with 1 Axes>"
      ]
     },
     "metadata": {},
     "output_type": "display_data"
    }
   ],
   "source": [
    "sns.set_style('whitegrid')\n",
    "plt.figure(figsize=(3,3))\n",
    "sns.countplot(x='webex_meet',data=data)\n",
    "#how many transactions happened with webex meet"
   ]
  },
  {
   "cell_type": "code",
   "execution_count": 40,
   "metadata": {},
   "outputs": [
    {
     "data": {
      "application/javascript": [
       "\n",
       "        if (window._pyforest_update_imports_cell) { window._pyforest_update_imports_cell('import pandas as pd\\nimport seaborn as sns\\nimport matplotlib.pyplot as plt'); }\n",
       "    "
      ],
      "text/plain": [
       "<IPython.core.display.Javascript object>"
      ]
     },
     "metadata": {},
     "output_type": "display_data"
    },
    {
     "data": {
      "application/javascript": [
       "\n",
       "        if (window._pyforest_update_imports_cell) { window._pyforest_update_imports_cell('import pandas as pd\\nimport seaborn as sns\\nimport matplotlib.pyplot as plt'); }\n",
       "    "
      ],
      "text/plain": [
       "<IPython.core.display.Javascript object>"
      ]
     },
     "metadata": {},
     "output_type": "display_data"
    },
    {
     "data": {
      "application/javascript": [
       "\n",
       "        if (window._pyforest_update_imports_cell) { window._pyforest_update_imports_cell('import pandas as pd\\nimport seaborn as sns\\nimport matplotlib.pyplot as plt'); }\n",
       "    "
      ],
      "text/plain": [
       "<IPython.core.display.Javascript object>"
      ]
     },
     "metadata": {},
     "output_type": "display_data"
    },
    {
     "data": {
      "text/plain": [
       "<matplotlib.axes._subplots.AxesSubplot at 0x2244371cdc8>"
      ]
     },
     "execution_count": 40,
     "metadata": {},
     "output_type": "execute_result"
    },
    {
     "data": {
      "image/png": "[encoded data removed]",
      "text/plain": [
       "<Figure size 216x216 with 1 Axes>"
      ]
     },
     "metadata": {},
     "output_type": "display_data"
    }
   ],
   "source": [
    "sns.set_style('whitegrid')\n",
    "plt.figure(figsize=(3,3))\n",
    "sns.countplot(x='sales_call',data=data)\n",
    "#how many transactions happened with sales meet"
   ]
  },
  {
   "cell_type": "code",
   "execution_count": 41,
   "metadata": {},
   "outputs": [
    {
     "data": {
      "application/javascript": [
       "\n",
       "        if (window._pyforest_update_imports_cell) { window._pyforest_update_imports_cell('import pandas as pd\\nimport seaborn as sns\\nimport matplotlib.pyplot as plt'); }\n",
       "    "
      ],
      "text/plain": [
       "<IPython.core.display.Javascript object>"
      ]
     },
     "metadata": {},
     "output_type": "display_data"
    },
    {
     "data": {
      "application/javascript": [
       "\n",
       "        if (window._pyforest_update_imports_cell) { window._pyforest_update_imports_cell('import pandas as pd\\nimport seaborn as sns\\nimport matplotlib.pyplot as plt'); }\n",
       "    "
      ],
      "text/plain": [
       "<IPython.core.display.Javascript object>"
      ]
     },
     "metadata": {},
     "output_type": "display_data"
    },
    {
     "data": {
      "application/javascript": [
       "\n",
       "        if (window._pyforest_update_imports_cell) { window._pyforest_update_imports_cell('import pandas as pd\\nimport seaborn as sns\\nimport matplotlib.pyplot as plt'); }\n",
       "    "
      ],
      "text/plain": [
       "<IPython.core.display.Javascript object>"
      ]
     },
     "metadata": {},
     "output_type": "display_data"
    },
    {
     "data": {
      "image/png": "[encoded data removed]",
      "text/plain": [
       "<Figure size 1296x720 with 1 Axes>"
      ]
     },
     "metadata": {},
     "output_type": "display_data"
    }
   ],
   "source": [
    "#state having more transactions\n",
    "plt.figure(figsize=(18,10))\n",
    "ax = sns.countplot(x=\"state\", data=data, label='Alone')\n",
    "ax.set_xticklabels(ax.get_xticklabels(), rotation=40, ha=\"right\")\n",
    "for p in ax.patches:\n",
    "    ax.annotate(str(p.get_height()), (p.get_x() * 1.005, p.get_height() * 1.005))\n",
    "plt.show()"
   ]
  },
  {
   "cell_type": "code",
   "execution_count": 42,
   "metadata": {},
   "outputs": [
    {
     "data": {
      "application/javascript": [
       "\n",
       "        if (window._pyforest_update_imports_cell) { window._pyforest_update_imports_cell('import pandas as pd\\nimport seaborn as sns\\nimport matplotlib.pyplot as plt'); }\n",
       "    "
      ],
      "text/plain": [
       "<IPython.core.display.Javascript object>"
      ]
     },
     "metadata": {},
     "output_type": "display_data"
    },
    {
     "data": {
      "application/javascript": [
       "\n",
       "        if (window._pyforest_update_imports_cell) { window._pyforest_update_imports_cell('import pandas as pd\\nimport seaborn as sns\\nimport matplotlib.pyplot as plt'); }\n",
       "    "
      ],
      "text/plain": [
       "<IPython.core.display.Javascript object>"
      ]
     },
     "metadata": {},
     "output_type": "display_data"
    },
    {
     "data": {
      "application/javascript": [
       "\n",
       "        if (window._pyforest_update_imports_cell) { window._pyforest_update_imports_cell('import pandas as pd\\nimport seaborn as sns\\nimport matplotlib.pyplot as plt'); }\n",
       "    "
      ],
      "text/plain": [
       "<IPython.core.display.Javascript object>"
      ]
     },
     "metadata": {},
     "output_type": "display_data"
    },
    {
     "data": {
      "image/png": "[encoded data removed]",
      "text/plain": [
       "<Figure size 648x360 with 1 Axes>"
      ]
     },
     "metadata": {},
     "output_type": "display_data"
    }
   ],
   "source": [
    "#funds having more transactions\n",
    "plt.figure(figsize=(9,5))\n",
    "ax = sns.countplot(x=\"fund_type\", data=data)\n",
    "ax.set_xticklabels(ax.get_xticklabels(), rotation=40, ha=\"right\")\n",
    "for p in ax.patches:\n",
    "    ax.annotate(str(p.get_height()), (p.get_x() * 1.005, p.get_height() * 1.005))\n",
    "plt.show()"
   ]
  },
  {
   "cell_type": "code",
   "execution_count": 43,
   "metadata": {},
   "outputs": [
    {
     "data": {
      "application/javascript": [
       "\n",
       "        if (window._pyforest_update_imports_cell) { window._pyforest_update_imports_cell('import pandas as pd\\nimport seaborn as sns\\nimport matplotlib.pyplot as plt'); }\n",
       "    "
      ],
      "text/plain": [
       "<IPython.core.display.Javascript object>"
      ]
     },
     "metadata": {},
     "output_type": "display_data"
    },
    {
     "data": {
      "text/plain": [
       "<matplotlib.axes._subplots.AxesSubplot at 0x22443728508>"
      ]
     },
     "execution_count": 43,
     "metadata": {},
     "output_type": "execute_result"
    },
    {
     "data": {
      "image/png": "[encoded data removed]",
      "text/plain": [
       "<Figure size 1008x432 with 1 Axes>"
      ]
     },
     "metadata": {},
     "output_type": "display_data"
    }
   ],
   "source": [
    "#plot data\n",
    "fig, ax = plt.subplots(figsize=(14,6))\n",
    "data.groupby(['fund_type']).sum()['global_sales'].plot(ax=ax, color='orange', linewidth=2.5)"
   ]
  },
  {
   "cell_type": "code",
   "execution_count": 44,
   "metadata": {},
   "outputs": [
    {
     "data": {
      "application/javascript": [
       "\n",
       "        if (window._pyforest_update_imports_cell) { window._pyforest_update_imports_cell('import pandas as pd\\nimport seaborn as sns\\nimport matplotlib.pyplot as plt'); }\n",
       "    "
      ],
      "text/plain": [
       "<IPython.core.display.Javascript object>"
      ]
     },
     "metadata": {},
     "output_type": "display_data"
    },
    {
     "data": {
      "text/plain": [
       "<matplotlib.axes._subplots.AxesSubplot at 0x22443448e48>"
      ]
     },
     "execution_count": 44,
     "metadata": {},
     "output_type": "execute_result"
    },
    {
     "data": {
      "image/png": "[encoded data removed]",
      "text/plain": [
       "<Figure size 1008x432 with 1 Axes>"
      ]
     },
     "metadata": {},
     "output_type": "display_data"
    }
   ],
   "source": [
    "#plot data\n",
    "fig, ax = plt.subplots(figsize=(14,6))\n",
    "data.groupby(['fund_type']).sum()['firm_sales'].plot(ax=ax, color='green', linewidth=2.5)"
   ]
  },
  {
   "cell_type": "code",
   "execution_count": 45,
   "metadata": {},
   "outputs": [
    {
     "data": {
      "text/plain": [
       "<matplotlib.axes._subplots.AxesSubplot at 0x224434049c8>"
      ]
     },
     "execution_count": 45,
     "metadata": {},
     "output_type": "execute_result"
    },
    {
     "data": {
      "image/png": "[encoded data removed]",
      "text/plain": [
       "<Figure size 432x288 with 1 Axes>"
      ]
     },
     "metadata": {},
     "output_type": "display_data"
    }
   ],
   "source": [
    "#sales happened with email_opened\n",
    "df = data[[\"email_opened\", \"firm_sales\"]]\n",
    "df.groupby(\"email_opened\").sum().plot(kind=\"bar\")"
   ]
  },
  {
   "cell_type": "code",
   "execution_count": 46,
   "metadata": {},
   "outputs": [
    {
     "data": {
      "text/plain": [
       "<matplotlib.axes._subplots.AxesSubplot at 0x224433b4ac8>"
      ]
     },
     "execution_count": 46,
     "metadata": {},
     "output_type": "execute_result"
    },
    {
     "data": {
      "image/png": "[encoded data removed]",
      "text/plain": [
       "<Figure size 432x288 with 1 Axes>"
      ]
     },
     "metadata": {},
     "output_type": "display_data"
    }
   ],
   "source": [
    "#sales happened with webex\n",
    "df = data[[\"webex_meet\", \"firm_sales\"]]\n",
    "df.groupby(\"webex_meet\").sum().plot(kind=\"bar\")"
   ]
  },
  {
   "cell_type": "code",
   "execution_count": 47,
   "metadata": {},
   "outputs": [
    {
     "data": {
      "text/plain": [
       "<matplotlib.axes._subplots.AxesSubplot at 0x2244335ea88>"
      ]
     },
     "execution_count": 47,
     "metadata": {},
     "output_type": "execute_result"
    },
    {
     "data": {
      "image/png": "[encoded data removed]",
      "text/plain": [
       "<Figure size 432x288 with 1 Axes>"
      ]
     },
     "metadata": {},
     "output_type": "display_data"
    }
   ],
   "source": [
    "#sales happened with sales_call\n",
    "df = data[[\"sales_call\", \"firm_sales\"]]\n",
    "df.groupby(\"sales_call\").sum().plot(kind=\"bar\")"
   ]
  },
  {
   "cell_type": "code",
   "execution_count": 53,
   "metadata": {},
   "outputs": [
    {
     "data": {
      "application/javascript": [
       "\n",
       "        if (window._pyforest_update_imports_cell) { window._pyforest_update_imports_cell('import pandas as pd\\nimport seaborn as sns\\nimport matplotlib.pyplot as plt'); }\n",
       "    "
      ],
      "text/plain": [
       "<IPython.core.display.Javascript object>"
      ]
     },
     "metadata": {},
     "output_type": "display_data"
    },
    {
     "data": {
      "application/javascript": [
       "\n",
       "        if (window._pyforest_update_imports_cell) { window._pyforest_update_imports_cell('import pandas as pd\\nimport seaborn as sns\\nimport matplotlib.pyplot as plt'); }\n",
       "    "
      ],
      "text/plain": [
       "<IPython.core.display.Javascript object>"
      ]
     },
     "metadata": {},
     "output_type": "display_data"
    },
    {
     "data": {
      "application/javascript": [
       "\n",
       "        if (window._pyforest_update_imports_cell) { window._pyforest_update_imports_cell('import pandas as pd\\nimport seaborn as sns\\nimport matplotlib.pyplot as plt'); }\n",
       "    "
      ],
      "text/plain": [
       "<IPython.core.display.Javascript object>"
      ]
     },
     "metadata": {},
     "output_type": "display_data"
    },
    {
     "data": {
      "image/png": "[encoded data removed]",
      "text/plain": [
       "<Figure size 1008x432 with 2 Axes>"
      ]
     },
     "metadata": {},
     "output_type": "display_data"
    }
   ],
   "source": [
    "#Product Wise Comparison Sales (firm and Global)\n",
    "a = data.groupby(['fund_category'], as_index=False)['firm_sales','global_sales'].sum()\n",
    "b = a.head(25)\n",
    "x = b['fund_category']\n",
    "y = b['global_sales']\n",
    "y1 =b['firm_sales']\n",
    "fig, ax1 = plt.subplots(figsize=(14,6))\n",
    "ax2 = ax1.twinx()\n",
    "ax1.plot(x, y, 'v-',color='grey')\n",
    "ax2.plot(x, y1, 'o-', color=\"green\" )\n",
    "ax1.set_xlabel('fund_category')\n",
    "plt.setp(ax1.get_xticklabels(), rotation=30, horizontalalignment='right')\n",
    "ax1.set_ylabel('global_sales')\n",
    "ax2.set_ylabel('firm_sales')\n",
    "ax1.axes.set_title(\"Product Sales Comparision\",fontsize=20)\n",
    "plt.show()"
   ]
  },
  {
   "cell_type": "code",
   "execution_count": 54,
   "metadata": {},
   "outputs": [
    {
     "data": {
      "application/javascript": [
       "\n",
       "        if (window._pyforest_update_imports_cell) { window._pyforest_update_imports_cell('import pandas as pd\\nimport seaborn as sns\\nimport matplotlib.pyplot as plt'); }\n",
       "    "
      ],
      "text/plain": [
       "<IPython.core.display.Javascript object>"
      ]
     },
     "metadata": {},
     "output_type": "display_data"
    },
    {
     "data": {
      "application/javascript": [
       "\n",
       "        if (window._pyforest_update_imports_cell) { window._pyforest_update_imports_cell('import pandas as pd\\nimport seaborn as sns\\nimport matplotlib.pyplot as plt'); }\n",
       "    "
      ],
      "text/plain": [
       "<IPython.core.display.Javascript object>"
      ]
     },
     "metadata": {},
     "output_type": "display_data"
    },
    {
     "data": {
      "application/javascript": [
       "\n",
       "        if (window._pyforest_update_imports_cell) { window._pyforest_update_imports_cell('import pandas as pd\\nimport seaborn as sns\\nimport matplotlib.pyplot as plt'); }\n",
       "    "
      ],
      "text/plain": [
       "<IPython.core.display.Javascript object>"
      ]
     },
     "metadata": {},
     "output_type": "display_data"
    },
    {
     "data": {
      "image/png": "[encoded data removed]",
      "text/plain": [
       "<Figure size 1008x432 with 2 Axes>"
      ]
     },
     "metadata": {},
     "output_type": "display_data"
    }
   ],
   "source": [
    "#Sate Wise Comparison Sales (firm and Global)\n",
    "a = data.groupby(['state'], as_index=False)['firm_sales','global_sales'].sum()\n",
    "b = a.head(35)\n",
    "x = b['state']\n",
    "y = b['global_sales']\n",
    "y1 =b['firm_sales']\n",
    "fig, ax1 = plt.subplots(figsize=(14,6))\n",
    "ax2 = ax1.twinx()\n",
    "ax1.plot(x, y, 'v-',color='grey')\n",
    "ax2.plot(x, y1, 'o-', color=\"green\" )\n",
    "ax1.set_xlabel('state')\n",
    "plt.setp(ax1.get_xticklabels(), rotation=30, horizontalalignment='right')\n",
    "ax1.set_ylabel('global_sales')\n",
    "ax2.set_ylabel('firm_sales')\n",
    "ax1.axes.set_title(\"State Wise Comparision (Firm vs. Global)\",fontsize=20)\n",
    "plt.show()"
   ]
  },
  {
   "cell_type": "markdown",
   "metadata": {},
   "source": [
    "## Insights"
   ]
  },
  {
   "cell_type": "code",
   "execution_count": 55,
   "metadata": {},
   "outputs": [
    {
     "name": "stdout",
     "output_type": "stream",
     "text": [
      "$ 66.73567647443 B\n"
     ]
    }
   ],
   "source": [
    "total_global_sales = data['global_sales'].sum()\n",
    "print(\"$\", total_global_sales/1000000000,\"B\" )"
   ]
  },
  {
   "cell_type": "code",
   "execution_count": 56,
   "metadata": {},
   "outputs": [
    {
     "name": "stdout",
     "output_type": "stream",
     "text": [
      "$ 2.657022163629999 B\n"
     ]
    }
   ],
   "source": [
    "total_firm_sales = data['firm_sales'].sum()\n",
    "print(\"$\", total_firm_sales/1000000000,\"B\" )"
   ]
  },
  {
   "cell_type": "code",
   "execution_count": 57,
   "metadata": {},
   "outputs": [
    {
     "name": "stdout",
     "output_type": "stream",
     "text": [
      "Percentage of our Firm Contibution 3.9814118983989704 %\n"
     ]
    }
   ],
   "source": [
    "print(\"Percentage of our Firm Contibution\",(total_firm_sales/total_global_sales)*100,\"%\")"
   ]
  },
  {
   "cell_type": "code",
   "execution_count": 58,
   "metadata": {},
   "outputs": [
    {
     "data": {
      "text/plain": [
       "fund_type\n",
       "U.S Equity Funds              1.008358e+09\n",
       "Taxable Bond Funds            8.449114e+08\n",
       "Allocation Funds              3.912271e+08\n",
       "International Equity Funds    2.740267e+08\n",
       "Alternative Funds             1.084823e+08\n",
       "Municipal Bond Funds          2.442198e+07\n",
       "Sector Equity Funds           5.520139e+06\n",
       "Commodities                   7.442886e+04\n",
       "Name: firm_sales, dtype: float64"
      ]
     },
     "execution_count": 58,
     "metadata": {},
     "output_type": "execute_result"
    }
   ],
   "source": [
    "a = data.groupby('fund_type')['firm_sales'].sum().sort_values(ascending=False)\n",
    "a"
   ]
  },
  {
   "cell_type": "code",
   "execution_count": 59,
   "metadata": {},
   "outputs": [
    {
     "data": {
      "text/plain": [
       "email_opened\n",
       "N    4.848210e+08\n",
       "Y    2.172201e+09\n",
       "Name: firm_sales, dtype: float64"
      ]
     },
     "execution_count": 59,
     "metadata": {},
     "output_type": "execute_result"
    }
   ],
   "source": [
    "#firm sales by email opened\n",
    "x = data.groupby('email_opened')['firm_sales'].sum()\n",
    "x"
   ]
  },
  {
   "cell_type": "code",
   "execution_count": 60,
   "metadata": {},
   "outputs": [
    {
     "name": "stdout",
     "output_type": "stream",
     "text": [
      "81.7532184528393 % 18.246781547160694 %\n"
     ]
    }
   ],
   "source": [
    "total = (4.848210e+08+2.172201e+09)\n",
    "email_opened_N = (4.848210e+08 / total) *100\n",
    "email_opened_Y = (2.172201e+09 / total) *100\n",
    "print(email_opened_Y,\"%\", email_opened_N,\"%\")"
   ]
  },
  {
   "cell_type": "code",
   "execution_count": 61,
   "metadata": {},
   "outputs": [
    {
     "data": {
      "text/plain": [
       "webex_meet\n",
       "N    1.465026e+09\n",
       "Y    1.191996e+09\n",
       "Name: firm_sales, dtype: float64"
      ]
     },
     "execution_count": 61,
     "metadata": {},
     "output_type": "execute_result"
    }
   ],
   "source": [
    "#firm sales by webex meeting\n",
    "y = data.groupby('webex_meet')['firm_sales'].sum()\n",
    "y"
   ]
  },
  {
   "cell_type": "code",
   "execution_count": 62,
   "metadata": {},
   "outputs": [
    {
     "name": "stdout",
     "output_type": "stream",
     "text": [
      "44.862105018325025 % 55.137894981674975 %\n"
     ]
    }
   ],
   "source": [
    "total = (1.465026e+09+1.191996e+09)\n",
    "webex_N = (1.465026e+09 / total) *100\n",
    "webex_Y = (1.191996e+09 / total) *100\n",
    "print(webex_Y,\"%\", webex_N,\"%\")"
   ]
  },
  {
   "cell_type": "code",
   "execution_count": 63,
   "metadata": {},
   "outputs": [
    {
     "data": {
      "text/plain": [
       "sales_call\n",
       "N    7.309740e+08\n",
       "Y    1.926048e+09\n",
       "Name: firm_sales, dtype: float64"
      ]
     },
     "execution_count": 63,
     "metadata": {},
     "output_type": "execute_result"
    }
   ],
   "source": [
    "#firm sales by sales call\n",
    "z =data.groupby('sales_call')['firm_sales'].sum()\n",
    "z"
   ]
  },
  {
   "cell_type": "code",
   "execution_count": 64,
   "metadata": {},
   "outputs": [
    {
     "name": "stdout",
     "output_type": "stream",
     "text": [
      "72.4889744985175 % 27.51102550148249 %\n"
     ]
    }
   ],
   "source": [
    "total = (1.926048e+09+7.309740e+08)\n",
    "sales_call_N = (7.309740e+08 / total) *100\n",
    "sales_call_Y = (1.926048e+09 / total) *100\n",
    "print(sales_call_Y,\"%\", sales_call_N,\"%\")"
   ]
  },
  {
   "cell_type": "code",
   "execution_count": 65,
   "metadata": {},
   "outputs": [
    {
     "data": {
      "text/plain": [
       "fund_category\n",
       "Intermediate-Term Bond           4.366743e+08\n",
       "Large Value                      3.615368e+08\n",
       "Allocation--30% to 50% Equity    2.236338e+08\n",
       "Large Growth                     1.822481e+08\n",
       "Foreign Large Blend              1.736723e+08\n",
       "                                     ...     \n",
       "Global Real Estate               0.000000e+00\n",
       "Foreign Small/Mid Value          0.000000e+00\n",
       "Foreign Small/Mid Growth         0.000000e+00\n",
       "Foreign Small/Mid Blend          0.000000e+00\n",
       "World Small/Mid Stock            0.000000e+00\n",
       "Name: firm_sales, Length: 103, dtype: float64"
      ]
     },
     "execution_count": 65,
     "metadata": {},
     "output_type": "execute_result"
    }
   ],
   "source": [
    "#top product for firm\n",
    "data.groupby('fund_category')['firm_sales'].sum().sort_values(ascending=False)"
   ]
  },
  {
   "cell_type": "code",
   "execution_count": 66,
   "metadata": {},
   "outputs": [
    {
     "data": {
      "text/plain": [
       "fund_category\n",
       "Intermediate-Term Bond    5.797888e+09\n",
       "Multisector Bond          4.517951e+09\n",
       "Large Growth              3.776700e+09\n",
       "Short-Term Bond           3.597911e+09\n",
       "Ultrashort Bond           3.287539e+09\n",
       "                              ...     \n",
       "Target-Date 2000-2010     5.452781e+06\n",
       "Target-Date 2060+         5.449289e+06\n",
       "Consumer Cyclical         3.918551e+06\n",
       "Latin America Stock       2.093504e+06\n",
       "Miscellaneous Region      3.932892e+05\n",
       "Name: global_sales, Length: 103, dtype: float64"
      ]
     },
     "execution_count": 66,
     "metadata": {},
     "output_type": "execute_result"
    }
   ],
   "source": [
    "#top product for global\n",
    "data.groupby('fund_category')['global_sales'].sum().sort_values(ascending=False)"
   ]
  },
  {
   "cell_type": "code",
   "execution_count": 67,
   "metadata": {},
   "outputs": [
    {
     "data": {
      "text/plain": [
       "city\n",
       "NEW YORK         68757803.05\n",
       "HOUSTON          47093626.81\n",
       "SAN DIEGO        28177441.78\n",
       "PORTLAND         25772097.11\n",
       "SAN FRANCISCO    24011276.18\n",
       "                    ...     \n",
       "PENHOOK                 0.00\n",
       "SIGNAL HILL             0.00\n",
       "GALENA                  0.00\n",
       "MINE HILL               0.00\n",
       "LUCINDA                 0.00\n",
       "Name: firm_sales, Length: 7272, dtype: float64"
      ]
     },
     "execution_count": 67,
     "metadata": {},
     "output_type": "execute_result"
    }
   ],
   "source": [
    "#top city for sales\n",
    "data.groupby('city')['firm_sales'].sum().sort_values(ascending=False)"
   ]
  },
  {
   "cell_type": "code",
   "execution_count": 68,
   "metadata": {},
   "outputs": [
    {
     "data": {
      "text/plain": [
       "broker_id\n",
       "BRXX-298    5.748833e+08\n",
       "BRXX-53     2.165282e+08\n",
       "BRXX-154    2.155913e+08\n",
       "BRXX-262    1.998988e+08\n",
       "BRXX-3      1.454181e+08\n",
       "                ...     \n",
       "BRXX-623    0.000000e+00\n",
       "BRXX-622    0.000000e+00\n",
       "BRXX-621    0.000000e+00\n",
       "BRXX-620    0.000000e+00\n",
       "BRXX-468    0.000000e+00\n",
       "Name: firm_sales, Length: 1178, dtype: float64"
      ]
     },
     "execution_count": 68,
     "metadata": {},
     "output_type": "execute_result"
    }
   ],
   "source": [
    "#top broker for our firm\n",
    "data.groupby('broker_id')['firm_sales'].sum().sort_values(ascending=False)"
   ]
  }
 ],
 "metadata": {
  "kernelspec": {
   "display_name": "Python 3",
   "language": "python",
   "name": "python3"
  },
  "language_info": {
   "codemirror_mode": {
    "name": "ipython",
    "version": 3
   },
   "file_extension": ".py",
   "mimetype": "text/x-python",
   "name": "python",
   "nbconvert_exporter": "python",
   "pygments_lexer": "ipython3",
   "version": "3.8.5"
  }
 },
 "nbformat": 4,
 "nbformat_minor": 2
}
